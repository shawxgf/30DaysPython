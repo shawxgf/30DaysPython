{
 "cells": [
  {
   "cell_type": "markdown",
   "id": "a8da9e60",
   "metadata": {},
   "source": [
    "# Exercises: Level 1"
   ]
  },
  {
   "cell_type": "markdown",
   "id": "085f28ac",
   "metadata": {},
   "source": [
    "1.Declare an empty list"
   ]
  },
  {
   "cell_type": "code",
   "execution_count": null,
   "id": "f7f292d4",
   "metadata": {},
   "outputs": [],
   "source": [
    "empty_list = []"
   ]
  },
  {
   "cell_type": "markdown",
   "id": "62f36701",
   "metadata": {},
   "source": [
    "2.Declare a list with more than 5 items"
   ]
  },
  {
   "cell_type": "code",
   "execution_count": 1,
   "id": "4af9fd98",
   "metadata": {},
   "outputs": [],
   "source": [
    "five_items_list = [1, 2, 3, 4, 5]"
   ]
  },
  {
   "cell_type": "markdown",
   "id": "b22b5e3d",
   "metadata": {},
   "source": [
    "3.Find the length of your list"
   ]
  },
  {
   "cell_type": "code",
   "execution_count": 2,
   "id": "bcce7a0a",
   "metadata": {},
   "outputs": [
    {
     "data": {
      "text/plain": [
       "5"
      ]
     },
     "execution_count": 2,
     "metadata": {},
     "output_type": "execute_result"
    }
   ],
   "source": [
    "len(five_items_list)  # This will return the length of the list"
   ]
  },
  {
   "cell_type": "markdown",
   "id": "ce7fe624",
   "metadata": {},
   "source": [
    "4.Get the first item, the middle item and the last item of the list"
   ]
  },
  {
   "cell_type": "code",
   "execution_count": 3,
   "id": "df08fbe9",
   "metadata": {},
   "outputs": [
    {
     "name": "stdout",
     "output_type": "stream",
     "text": [
      "First item: 1\n",
      "Middle item: 3\n",
      "Last item: 5\n"
     ]
    }
   ],
   "source": [
    "first_item = five_items_list[0]\n",
    "middle_item = five_items_list[len(five_items_list) // 2]\n",
    "last_item = five_items_list[-1]\n",
    "print(\"First item:\", first_item)\n",
    "print(\"Middle item:\", middle_item)\n",
    "print(\"Last item:\", last_item)\n"
   ]
  },
  {
   "cell_type": "markdown",
   "id": "6c749ba3",
   "metadata": {},
   "source": [
    "5.Declare a list called mixed_data_types, put your(name, age, height, marital status, address)"
   ]
  },
  {
   "cell_type": "code",
   "execution_count": null,
   "id": "548148e8",
   "metadata": {},
   "outputs": [],
   "source": [
    "mixed_data_types = [\"patrick\", 25, 5.11, \"single\", \"123 Main St\"]\n"
   ]
  },
  {
   "cell_type": "markdown",
   "id": "a8339231",
   "metadata": {},
   "source": [
    "6.Declare a list variable named it_companies and assign initial values Facebook, Google, Microsoft, Apple, IBM, Oracle and Amazon."
   ]
  },
  {
   "cell_type": "code",
   "execution_count": 4,
   "id": "9c783547",
   "metadata": {},
   "outputs": [],
   "source": [
    "it_companies = [\"Facebook\", \"Google\", \"Microsoft\", \"Apple\", \"IBM\", \"Oracle\", \"Amazon\"]"
   ]
  },
  {
   "cell_type": "markdown",
   "id": "01fd2844",
   "metadata": {},
   "source": [
    "7.Print the list using print()\n"
   ]
  },
  {
   "cell_type": "code",
   "execution_count": 5,
   "id": "327598e3",
   "metadata": {},
   "outputs": [
    {
     "name": "stdout",
     "output_type": "stream",
     "text": [
      "IT Companies: ['Facebook', 'Google', 'Microsoft', 'Apple', 'IBM', 'Oracle', 'Amazon']\n"
     ]
    }
   ],
   "source": [
    "print(\"IT Companies:\", it_companies)"
   ]
  },
  {
   "cell_type": "markdown",
   "id": "919faa6b",
   "metadata": {},
   "source": [
    "8.Print the number of companies in the list"
   ]
  },
  {
   "cell_type": "code",
   "execution_count": 6,
   "id": "7fba4f3e",
   "metadata": {},
   "outputs": [
    {
     "name": "stdout",
     "output_type": "stream",
     "text": [
      "7\n"
     ]
    }
   ],
   "source": [
    "print(len(it_companies))  # This will print the number of companies in the list"
   ]
  },
  {
   "cell_type": "markdown",
   "id": "96bdc05c",
   "metadata": {},
   "source": [
    "9.Print the first, middle and last company"
   ]
  },
  {
   "cell_type": "code",
   "execution_count": 7,
   "id": "2af45808",
   "metadata": {},
   "outputs": [
    {
     "name": "stdout",
     "output_type": "stream",
     "text": [
      "First company: Facebook\n",
      "Middle company: Apple\n",
      "Last company: Amazon\n"
     ]
    }
   ],
   "source": [
    "first_company = it_companies[0]\n",
    "middle_company = it_companies[len(it_companies) // 2]\n",
    "last_company = it_companies[-1]\n",
    "print(\"First company:\", first_company)\n",
    "print(\"Middle company:\", middle_company)\n",
    "print(\"Last company:\", last_company)\n"
   ]
  },
  {
   "cell_type": "markdown",
   "id": "9e25d96f",
   "metadata": {},
   "source": [
    "10.Print the list after modifying one of the companies"
   ]
  },
  {
   "cell_type": "code",
   "execution_count": 8,
   "id": "e4f1cc85",
   "metadata": {},
   "outputs": [
    {
     "name": "stdout",
     "output_type": "stream",
     "text": [
      "Modified companies: ['Meta', 'Google', 'Microsoft', 'Apple', 'IBM', 'Oracle', 'Amazon']\n"
     ]
    }
   ],
   "source": [
    "modified_companies = it_companies.copy()\n",
    "modified_companies[0] = \"Meta\"\n",
    "print(\"Modified companies:\", modified_companies)"
   ]
  },
  {
   "cell_type": "markdown",
   "id": "a33c1840",
   "metadata": {},
   "source": [
    "11.Add an IT company to it_companies"
   ]
  },
  {
   "cell_type": "code",
   "execution_count": 9,
   "id": "ba4805f0",
   "metadata": {},
   "outputs": [
    {
     "name": "stdout",
     "output_type": "stream",
     "text": [
      "Updated IT Companies: ['Facebook', 'Google', 'Microsoft', 'Apple', 'IBM', 'Oracle', 'Amazon', 'Tesla']\n"
     ]
    }
   ],
   "source": [
    "it_companies.append(\"Tesla\")\n",
    "print(\"Updated IT Companies:\", it_companies)"
   ]
  },
  {
   "cell_type": "markdown",
   "id": "90c52ad0",
   "metadata": {},
   "source": [
    "12.Insert an IT company in the middle of the companies list"
   ]
  },
  {
   "cell_type": "code",
   "execution_count": 10,
   "id": "b3d668eb",
   "metadata": {},
   "outputs": [
    {
     "name": "stdout",
     "output_type": "stream",
     "text": [
      "IT Companies after insertion: ['Facebook', 'Google', 'Microsoft', 'Apple', 'Nvidia', 'IBM', 'Oracle', 'Amazon', 'Tesla']\n"
     ]
    }
   ],
   "source": [
    "it_companies.insert(len(it_companies) // 2, \"Nvidia\")\n",
    "print(\"IT Companies after insertion:\", it_companies)"
   ]
  },
  {
   "cell_type": "markdown",
   "id": "83742d86",
   "metadata": {},
   "source": [
    "13.Change one of the it_companies names to uppercase (IBM excluded!)"
   ]
  },
  {
   "cell_type": "code",
   "execution_count": 15,
   "id": "87632680",
   "metadata": {},
   "outputs": [
    {
     "name": "stdout",
     "output_type": "stream",
     "text": [
      "Uppercase first company: ['FACEBOOK', 'Google', 'Microsoft', 'Apple', 'Nvidia', 'IBM', 'Oracle', 'Amazon', 'Tesla']\n"
     ]
    }
   ],
   "source": [
    "it_companies[0] = it_companies[0].upper()  # Change the first company to uppercase, excluding IBM\n",
    "print(\"Uppercase first company:\", it_companies)"
   ]
  },
  {
   "cell_type": "markdown",
   "id": "f7c6a50a",
   "metadata": {},
   "source": [
    "14.Join the it_companies with a string '#;  '"
   ]
  },
  {
   "cell_type": "code",
   "execution_count": 17,
   "id": "d7c3e1ce",
   "metadata": {},
   "outputs": [
    {
     "name": "stdout",
     "output_type": "stream",
     "text": [
      "FACEBOOK#;  Google#;  Microsoft#;  Apple#;  Nvidia#;  IBM#;  Oracle#;  Amazon#;  Tesla\n"
     ]
    }
   ],
   "source": [
    "joined_companies = '#;  '.join(it_companies)\n",
    "print(joined_companies)\n"
   ]
  },
  {
   "cell_type": "markdown",
   "id": "5bea9e09",
   "metadata": {},
   "source": [
    "15.Check if a certain company exists in the it_companies list."
   ]
  },
  {
   "cell_type": "code",
   "execution_count": 18,
   "id": "1ad26308",
   "metadata": {},
   "outputs": [
    {
     "name": "stdout",
     "output_type": "stream",
     "text": [
      "Does Apple exist in the list? True\n"
     ]
    }
   ],
   "source": [
    "company_to_check = \"Apple\"\n",
    "exists = company_to_check in it_companies\n",
    "print(f\"Does {company_to_check} exist in the list? {exists}\")\n"
   ]
  },
  {
   "cell_type": "markdown",
   "id": "a03f5120",
   "metadata": {},
   "source": [
    "16.Sort the list using sort() method"
   ]
  },
  {
   "cell_type": "code",
   "execution_count": 19,
   "id": "1769802f",
   "metadata": {},
   "outputs": [
    {
     "name": "stdout",
     "output_type": "stream",
     "text": [
      "Sorted IT Companies: ['Amazon', 'Apple', 'FACEBOOK', 'Google', 'IBM', 'Microsoft', 'Nvidia', 'Oracle', 'Tesla']\n"
     ]
    }
   ],
   "source": [
    "sorted_companies = it_companies.copy()\n",
    "sorted_companies.sort() # Sort the list in ascending order\n",
    "print(\"Sorted IT Companies:\", sorted_companies)\n"
   ]
  },
  {
   "cell_type": "markdown",
   "id": "7e651c90",
   "metadata": {},
   "source": [
    "17.Reverse the list in descending order using reverse() method"
   ]
  },
  {
   "cell_type": "code",
   "execution_count": 20,
   "id": "a52c1325",
   "metadata": {},
   "outputs": [
    {
     "name": "stdout",
     "output_type": "stream",
     "text": [
      "Reversed IT Companies: ['Tesla', 'Amazon', 'Oracle', 'IBM', 'Nvidia', 'Apple', 'Microsoft', 'Google', 'FACEBOOK']\n"
     ]
    }
   ],
   "source": [
    "reversed_companies = it_companies.copy()\n",
    "reversed_companies.reverse()  # Reverse the list in place\n",
    "print(\"Reversed IT Companies:\", reversed_companies)"
   ]
  },
  {
   "cell_type": "markdown",
   "id": "05cf2bf1",
   "metadata": {},
   "source": [
    "18.Slice out the first 3 companies from the list"
   ]
  },
  {
   "cell_type": "code",
   "execution_count": 23,
   "id": "02dcd11f",
   "metadata": {},
   "outputs": [
    {
     "name": "stdout",
     "output_type": "stream",
     "text": [
      "First three IT Companies: ['FACEBOOK', 'Google', 'Microsoft']\n"
     ]
    }
   ],
   "source": [
    "it_companies_first_three = it_companies[:3]\n",
    "print(\"First three IT Companies:\", it_companies_first_three)"
   ]
  },
  {
   "cell_type": "markdown",
   "id": "dafc4666",
   "metadata": {},
   "source": [
    "19.Slice out the last 3 companies from the list"
   ]
  },
  {
   "cell_type": "code",
   "execution_count": 22,
   "id": "e0ce6c26",
   "metadata": {},
   "outputs": [
    {
     "name": "stdout",
     "output_type": "stream",
     "text": [
      "Last three IT Companies: ['Oracle', 'Amazon', 'Tesla']\n"
     ]
    }
   ],
   "source": [
    "it_companies_last_three = it_companies[-3:]\n",
    "print(\"Last three IT Companies:\", it_companies_last_three)"
   ]
  },
  {
   "cell_type": "markdown",
   "id": "d4750cc7",
   "metadata": {},
   "source": [
    "20.Slice out the middle IT company or companies from the list"
   ]
  },
  {
   "cell_type": "code",
   "execution_count": 24,
   "id": "268782f5",
   "metadata": {},
   "outputs": [
    {
     "name": "stdout",
     "output_type": "stream",
     "text": [
      "Middle company/companies: Nvidia\n"
     ]
    }
   ],
   "source": [
    "# 计算中间位置的索引\n",
    "middle_index = len(it_companies) // 2\n",
    "\n",
    "# 如果列表长度是奇数，切片出一个元素；如果是偶数，切片出两个元素\n",
    "if len(it_companies) % 2 == 1:\n",
    "    middle_company = it_companies[middle_index]\n",
    "else:\n",
    "    middle_company = it_companies[middle_index - 1:middle_index + 1]\n",
    "\n",
    "print(\"Middle company/companies:\", middle_company)\n"
   ]
  },
  {
   "cell_type": "markdown",
   "id": "7e961b86",
   "metadata": {},
   "source": [
    "21.Remove the first IT company from the list"
   ]
  },
  {
   "cell_type": "code",
   "execution_count": 26,
   "id": "b27d7d56",
   "metadata": {},
   "outputs": [
    {
     "name": "stdout",
     "output_type": "stream",
     "text": [
      "IT Companies after removing the first company: ['Microsoft', 'Apple', 'Nvidia', 'IBM', 'Oracle', 'Amazon', 'Tesla']\n"
     ]
    }
   ],
   "source": [
    "it_companies_first_removed = it_companies.pop(0)  # Remove the first company\n",
    "print(\"IT Companies after removing the first company:\", it_companies)"
   ]
  },
  {
   "cell_type": "markdown",
   "id": "a7423fd6",
   "metadata": {},
   "source": [
    "22.Remove the middle IT company or companies from the list"
   ]
  },
  {
   "cell_type": "code",
   "execution_count": 27,
   "id": "cbc60855",
   "metadata": {},
   "outputs": [
    {
     "name": "stdout",
     "output_type": "stream",
     "text": [
      "Updated IT Companies: ['Microsoft', 'Apple', 'Nvidia', 'Oracle', 'Amazon', 'Tesla']\n"
     ]
    }
   ],
   "source": [
    "# 计算中间位置的索引\n",
    "middle_index = len(it_companies) // 2\n",
    "\n",
    "# 如果列表长度是奇数，移除一个元素；如果是偶数，移除两个元素\n",
    "if len(it_companies) % 2 == 1:\n",
    "    it_companies.pop(middle_index)\n",
    "else:\n",
    "    del it_companies[middle_index - 1:middle_index + 1]\n",
    "\n",
    "print(\"Updated IT Companies:\", it_companies)\n"
   ]
  },
  {
   "cell_type": "markdown",
   "id": "3ae7f96e",
   "metadata": {},
   "source": [
    "23.Remove the last IT company from the list"
   ]
  },
  {
   "cell_type": "code",
   "execution_count": 28,
   "id": "fe3b18dd",
   "metadata": {},
   "outputs": [
    {
     "name": "stdout",
     "output_type": "stream",
     "text": [
      "IT Companies after removing the last company: ['Microsoft', 'Apple', 'Nvidia', 'Oracle', 'Amazon']\n"
     ]
    }
   ],
   "source": [
    "it_companies_last_removed = it_companies.pop()  # Remove the last company\n",
    "print(\"IT Companies after removing the last company:\", it_companies)"
   ]
  },
  {
   "cell_type": "markdown",
   "id": "b9bbd918",
   "metadata": {},
   "source": [
    "24.Remove all IT companies from the list"
   ]
  },
  {
   "cell_type": "code",
   "execution_count": 29,
   "id": "9671c4c3",
   "metadata": {},
   "outputs": [
    {
     "name": "stdout",
     "output_type": "stream",
     "text": [
      "Updated IT Companies: []\n"
     ]
    }
   ],
   "source": [
    "# 移除所有公司\n",
    "it_companies.clear()\n",
    "print(\"Updated IT Companies:\", it_companies)\n"
   ]
  },
  {
   "cell_type": "markdown",
   "id": "4308beff",
   "metadata": {},
   "source": [
    "25.Destroy the IT companies list"
   ]
  },
  {
   "cell_type": "code",
   "execution_count": 30,
   "id": "079f0d2a",
   "metadata": {},
   "outputs": [
    {
     "name": "stdout",
     "output_type": "stream",
     "text": [
      "IT Companies list destroyed.\n"
     ]
    }
   ],
   "source": [
    "del it_companies  # Destroy the IT companies list\n",
    "print(\"IT Companies list destroyed.\")"
   ]
  },
  {
   "cell_type": "markdown",
   "id": "df5f80ed",
   "metadata": {},
   "source": [
    "26.Join the following lists:"
   ]
  },
  {
   "cell_type": "code",
   "execution_count": 32,
   "id": "81d73a04",
   "metadata": {},
   "outputs": [
    {
     "name": "stdout",
     "output_type": "stream",
     "text": [
      "Combined stack: ['HTML', 'CSS', 'JS', 'React', 'Redux', 'Node', 'Express', 'MongoDB']\n"
     ]
    }
   ],
   "source": [
    "front_end = ['HTML', 'CSS', 'JS', 'React', 'Redux']\n",
    "back_end = ['Node','Express', 'MongoDB']\n",
    "combined_stack = front_end + back_end\n",
    "print(\"Combined stack:\", combined_stack)"
   ]
  },
  {
   "cell_type": "markdown",
   "id": "f42d364c",
   "metadata": {},
   "source": [
    "27.After joining the lists in question 26. Copy the joined list and assign it to a variable full_stack. Then insert Python and SQL after Redux."
   ]
  },
  {
   "cell_type": "code",
   "execution_count": 33,
   "id": "bacc04c3",
   "metadata": {},
   "outputs": [
    {
     "name": "stdout",
     "output_type": "stream",
     "text": [
      "Full stack after inserting Python and SQL: ['HTML', 'CSS', 'JS', 'React', 'Redux', 'Python', 'SQL', 'Node', 'Express', 'MongoDB']\n"
     ]
    }
   ],
   "source": [
    "combined_stack_copy = combined_stack.copy()\n",
    "combined_stack_copy.insert(combined_stack_copy.index('Redux') + 1, 'Python')\n",
    "combined_stack_copy.insert(combined_stack_copy.index('Redux') + 2, 'SQL')\n",
    "print(\"Full stack after inserting Python and SQL:\", combined_stack_copy)"
   ]
  },
  {
   "cell_type": "markdown",
   "id": "9dab022e",
   "metadata": {},
   "source": [
    "# Exercises: Level 2"
   ]
  },
  {
   "cell_type": "markdown",
   "id": "70296555",
   "metadata": {},
   "source": [
    "1.The following is a list of 10 students ages:\n",
    "ages = [19, 22, 19, 24, 20, 25, 26, 24, 25, 24]"
   ]
  },
  {
   "cell_type": "code",
   "execution_count": 36,
   "id": "f7632b65",
   "metadata": {},
   "outputs": [
    {
     "name": "stdout",
     "output_type": "stream",
     "text": [
      "min age: 19\n",
      "max age: 26\n",
      "Updated ages list: [19, 19, 20, 22, 24, 24, 24, 25, 25, 26, 19, 19]\n",
      "Median age: 24.0\n",
      "Average age: 22.166666666666668\n",
      "Age range: 0\n",
      "Difference between min and average: 3.166666666666668\n",
      "Difference between max and average: 3.166666666666668\n"
     ]
    }
   ],
   "source": [
    "ages = [19, 22, 19, 24, 20, 25, 26, 24, 25, 24]\n",
    "# Sort the list and find the min and max age\n",
    "ages.sort()\n",
    "print(\"min age:\", ages[0])\n",
    "print(\"max age:\", ages[-1])\n",
    "# Add the min age and the max age again to the list\n",
    "ages.append(ages[0])\n",
    "ages.append(ages[-1])\n",
    "print(\"Updated ages list:\", ages)\n",
    "# Find the median age (one middle item or two middle items divided by two)\n",
    "middle_index = len(ages) // 2\n",
    "\n",
    "if len(ages) % 2 == 1:\n",
    "    median_age = ages[middle_index]\n",
    "else:\n",
    "    median_age = (ages[middle_index - 1] + ages[middle_index]) / 2\n",
    "\n",
    "print(\"Median age:\", median_age)\n",
    "# Find the average age (the sum of all items divided by the number of items)\n",
    "average_age = sum(ages) / len(ages)\n",
    "print(\"Average age:\", average_age)\n",
    "# Find the range (max minus min)\n",
    "age_range = ages[-1] - ages[0]\n",
    "print(\"Age range:\", age_range)\n",
    "# Compare the value of (min - average) and (max - average), use abs() method\n",
    "min_average_diff = abs(ages[0] - average_age)\n",
    "max_average_diff = abs(ages[-1] - average_age)\n",
    "\n",
    "print(\"Difference between min and average:\", min_average_diff)\n",
    "print(\"Difference between max and average:\", max_average_diff)\n"
   ]
  },
  {
   "cell_type": "markdown",
   "id": "08116263",
   "metadata": {},
   "source": [
    "2.Find the middle country(ies) in the countries list"
   ]
  },
  {
   "cell_type": "code",
   "execution_count": 37,
   "id": "7f17fb9d",
   "metadata": {},
   "outputs": [
    {
     "name": "stdout",
     "output_type": "stream",
     "text": [
      "Middle country: Lesotho\n"
     ]
    }
   ],
   "source": [
    "countries = [\n",
    "  'Afghanistan',\n",
    "  'Albania',\n",
    "  'Algeria',\n",
    "  'Andorra',\n",
    "  'Angola',\n",
    "  'Antigua and Barbuda',\n",
    "  'Argentina',\n",
    "  'Armenia',\n",
    "  'Australia',\n",
    "  'Austria',\n",
    "  'Azerbaijan',\n",
    "  'Bahamas',\n",
    "  'Bahrain',\n",
    "  'Bangladesh',\n",
    "  'Barbados',\n",
    "  'Belarus',\n",
    "  'Belgium',\n",
    "  'Belize',\n",
    "  'Benin',\n",
    "  'Bhutan',\n",
    "  'Bolivia',\n",
    "  'Bosnia and Herzegovina',\n",
    "  'Botswana',\n",
    "  'Brazil',\n",
    "  'Brunei',\n",
    "  'Bulgaria',\n",
    "  'Burkina Faso',\n",
    "  'Burundi',\n",
    "  'Cambodia',\n",
    "  'Cameroon',\n",
    "  'Canada',\n",
    "  'Cape Verde',\n",
    "  'Central African Republic',\n",
    "  'Chad',\n",
    "  'Chile',\n",
    "  'China',\n",
    "  'Colombi',\n",
    "  'Comoros',\n",
    "  'Congo (Brazzaville)',\n",
    "  'Congo',\n",
    "  'Costa Rica',\n",
    "  \"Cote d'Ivoire\",\n",
    "  'Croatia',\n",
    "  'Cuba',\n",
    "  'Cyprus',\n",
    "  'Czech Republic',\n",
    "  'Denmark',\n",
    "  'Djibouti',\n",
    "  'Dominica',\n",
    "  'Dominican Republic',\n",
    "  'East Timor (Timor Timur)',\n",
    "  'Ecuador',\n",
    "  'Egypt',\n",
    "  'El Salvador',\n",
    "  'Equatorial Guinea',\n",
    "  'Eritrea',\n",
    "  'Estonia',\n",
    "  'Ethiopia',\n",
    "  'Fiji',\n",
    "  'Finland',\n",
    "  'France',\n",
    "  'Gabon',\n",
    "  'Gambia, The',\n",
    "  'Georgia',\n",
    "  'Germany',\n",
    "  'Ghana',\n",
    "  'Greece',\n",
    "  'Grenada',\n",
    "  'Guatemala',\n",
    "  'Guinea',\n",
    "  'Guinea-Bissau',\n",
    "  'Guyana',\n",
    "  'Haiti',\n",
    "  'Honduras',\n",
    "  'Hungary',\n",
    "  'Iceland',\n",
    "  'India',\n",
    "  'Indonesia',\n",
    "  'Iran',\n",
    "  'Iraq',\n",
    "  'Ireland',\n",
    "  'Israel',\n",
    "  'Italy',\n",
    "  'Jamaica',\n",
    "  'Japan',\n",
    "  'Jordan',\n",
    "  'Kazakhstan',\n",
    "  'Kenya',\n",
    "  'Kiribati',\n",
    "  'Korea, North',\n",
    "  'Korea, South',\n",
    "  'Kuwait',\n",
    "  'Kyrgyzstan',\n",
    "  'Laos',\n",
    "  'Latvia',\n",
    "  'Lebanon',\n",
    "  'Lesotho',\n",
    "  'Liberia',\n",
    "  'Libya',\n",
    "  'Liechtenstein',\n",
    "  'Lithuania',\n",
    "  'Luxembourg',\n",
    "  'Macedonia',\n",
    "  'Madagascar',\n",
    "  'Malawi',\n",
    "  'Malaysia',\n",
    "  'Maldives',\n",
    "  'Mali',\n",
    "  'Malta',\n",
    "  'Marshall Islands',\n",
    "  'Mauritania',\n",
    "  'Mauritius',\n",
    "  'Mexico',\n",
    "  'Micronesia',\n",
    "  'Moldova',\n",
    "  'Monaco',\n",
    "  'Mongolia',\n",
    "  'Morocco',\n",
    "  'Mozambique',\n",
    "  'Myanmar',\n",
    "  'Namibia',\n",
    "  'Nauru',\n",
    "  'Nepal',\n",
    "  'Netherlands',\n",
    "  'New Zealand',\n",
    "  'Nicaragua',\n",
    "  'Niger',\n",
    "  'Nigeria',\n",
    "  'Norway',\n",
    "  'Oman',\n",
    "  'Pakistan',\n",
    "  'Palau',\n",
    "  'Panama',\n",
    "  'Papua New Guinea',\n",
    "  'Paraguay',\n",
    "  'Peru',\n",
    "  'Philippines',\n",
    "  'Poland',\n",
    "  'Portugal',\n",
    "  'Qatar',\n",
    "  'Romania',\n",
    "  'Russia',\n",
    "  'Rwanda',\n",
    "  'Saint Kitts and Nevis',\n",
    "  'Saint Lucia',\n",
    "  'Saint Vincent',\n",
    "  'Samoa',\n",
    "  'San Marino',\n",
    "  'Sao Tome and Principe',\n",
    "  'Saudi Arabia',\n",
    "  'Senegal',\n",
    "  'Serbia and Montenegro',\n",
    "  'Seychelles',\n",
    "  'Sierra Leone',\n",
    "  'Singapore',\n",
    "  'Slovakia',\n",
    "  'Slovenia',\n",
    "  'Solomon Islands',\n",
    "  'Somalia',\n",
    "  'South Africa',\n",
    "  'Spain',\n",
    "  'Sri Lanka',\n",
    "  'Sudan',\n",
    "  'Suriname',\n",
    "  'Swaziland',\n",
    "  'Sweden',\n",
    "  'Switzerland',\n",
    "  'Syria',\n",
    "  'Taiwan',\n",
    "  'Tajikistan',\n",
    "  'Tanzania',\n",
    "  'Thailand',\n",
    "  'Togo',\n",
    "  'Tonga',\n",
    "  'Trinidad and Tobago',\n",
    "  'Tunisia',\n",
    "  'Turkey',\n",
    "  'Turkmenistan',\n",
    "  'Tuvalu',\n",
    "  'Uganda',\n",
    "  'Ukraine',\n",
    "  'United Arab Emirates',\n",
    "  'United Kingdom',\n",
    "  'United States',\n",
    "  'Uruguay',\n",
    "  'Uzbekistan',\n",
    "  'Vanuatu',\n",
    "  'Vatican City',\n",
    "  'Venezuela',\n",
    "  'Vietnam',\n",
    "  'Yemen',\n",
    "  'Zambia',\n",
    "  'Zimbabwe',\n",
    "];\n",
    "middle_index = len(countries) // 2\n",
    "if len(countries) % 2 == 1: \n",
    "    middle_country = countries[middle_index]\n",
    "else:\n",
    "    middle_country = countries[middle_index - 1:middle_index + 1]\n",
    "print(\"Middle country:\", middle_country)"
   ]
  },
  {
   "cell_type": "markdown",
   "id": "f3a6d519",
   "metadata": {},
   "source": [
    "2.Divide the countries list into two equal lists if it is even if not one more country for the first half."
   ]
  },
  {
   "cell_type": "code",
   "execution_count": 38,
   "id": "86fa3157",
   "metadata": {},
   "outputs": [
    {
     "name": "stdout",
     "output_type": "stream",
     "text": [
      "First half: ['Afghanistan', 'Albania', 'Algeria', 'Andorra', 'Angola', 'Antigua and Barbuda', 'Argentina', 'Armenia', 'Australia', 'Austria', 'Azerbaijan', 'Bahamas', 'Bahrain', 'Bangladesh', 'Barbados', 'Belarus', 'Belgium', 'Belize', 'Benin', 'Bhutan', 'Bolivia', 'Bosnia and Herzegovina', 'Botswana', 'Brazil', 'Brunei', 'Bulgaria', 'Burkina Faso', 'Burundi', 'Cambodia', 'Cameroon', 'Canada', 'Cape Verde', 'Central African Republic', 'Chad', 'Chile', 'China', 'Colombi', 'Comoros', 'Congo (Brazzaville)', 'Congo', 'Costa Rica', \"Cote d'Ivoire\", 'Croatia', 'Cuba', 'Cyprus', 'Czech Republic', 'Denmark', 'Djibouti', 'Dominica', 'Dominican Republic', 'East Timor (Timor Timur)', 'Ecuador', 'Egypt', 'El Salvador', 'Equatorial Guinea', 'Eritrea', 'Estonia', 'Ethiopia', 'Fiji', 'Finland', 'France', 'Gabon', 'Gambia, The', 'Georgia', 'Germany', 'Ghana', 'Greece', 'Grenada', 'Guatemala', 'Guinea', 'Guinea-Bissau', 'Guyana', 'Haiti', 'Honduras', 'Hungary', 'Iceland', 'India', 'Indonesia', 'Iran', 'Iraq', 'Ireland', 'Israel', 'Italy', 'Jamaica', 'Japan', 'Jordan', 'Kazakhstan', 'Kenya', 'Kiribati', 'Korea, North', 'Korea, South', 'Kuwait', 'Kyrgyzstan', 'Laos', 'Latvia', 'Lebanon']\n",
      "Second half: ['Lesotho', 'Liberia', 'Libya', 'Liechtenstein', 'Lithuania', 'Luxembourg', 'Macedonia', 'Madagascar', 'Malawi', 'Malaysia', 'Maldives', 'Mali', 'Malta', 'Marshall Islands', 'Mauritania', 'Mauritius', 'Mexico', 'Micronesia', 'Moldova', 'Monaco', 'Mongolia', 'Morocco', 'Mozambique', 'Myanmar', 'Namibia', 'Nauru', 'Nepal', 'Netherlands', 'New Zealand', 'Nicaragua', 'Niger', 'Nigeria', 'Norway', 'Oman', 'Pakistan', 'Palau', 'Panama', 'Papua New Guinea', 'Paraguay', 'Peru', 'Philippines', 'Poland', 'Portugal', 'Qatar', 'Romania', 'Russia', 'Rwanda', 'Saint Kitts and Nevis', 'Saint Lucia', 'Saint Vincent', 'Samoa', 'San Marino', 'Sao Tome and Principe', 'Saudi Arabia', 'Senegal', 'Serbia and Montenegro', 'Seychelles', 'Sierra Leone', 'Singapore', 'Slovakia', 'Slovenia', 'Solomon Islands', 'Somalia', 'South Africa', 'Spain', 'Sri Lanka', 'Sudan', 'Suriname', 'Swaziland', 'Sweden', 'Switzerland', 'Syria', 'Taiwan', 'Tajikistan', 'Tanzania', 'Thailand', 'Togo', 'Tonga', 'Trinidad and Tobago', 'Tunisia', 'Turkey', 'Turkmenistan', 'Tuvalu', 'Uganda', 'Ukraine', 'United Arab Emirates', 'United Kingdom', 'United States', 'Uruguay', 'Uzbekistan', 'Vanuatu', 'Vatican City', 'Venezuela', 'Vietnam', 'Yemen', 'Zambia', 'Zimbabwe']\n"
     ]
    }
   ],
   "source": [
    "middle_index = len(countries) // 2\n",
    "if len(countries) % 2 == 1:\n",
    "    first_half = countries[:middle_index]\n",
    "else:\n",
    "    first_half = countries[:middle_index + 1]\n",
    "second_half = countries[middle_index:]\n",
    "print(\"First half:\", first_half)\n",
    "print(\"Second half:\", second_half)"
   ]
  },
  {
   "cell_type": "markdown",
   "id": "002364a9",
   "metadata": {},
   "source": [
    "3.['China', 'Russia', 'USA', 'Finland', 'Sweden', 'Norway', 'Denmark']. Unpack the first three countries and the rest as scandic countries."
   ]
  },
  {
   "cell_type": "code",
   "execution_count": 39,
   "id": "ede51e29",
   "metadata": {},
   "outputs": [
    {
     "name": "stdout",
     "output_type": "stream",
     "text": [
      "First country: China\n",
      "Second country: Russia\n",
      "Third country: USA\n",
      "Scandic countries: ['Finland', 'Sweden', 'Norway', 'Denmark']\n"
     ]
    }
   ],
   "source": [
    "countries = ['China', 'Russia', 'USA', 'Finland', 'Sweden', 'Norway', 'Denmark']\n",
    "\n",
    "# 解包前三个国家\n",
    "first, second, third, *scandic_countries = countries\n",
    "\n",
    "print(\"First country:\", first)\n",
    "print(\"Second country:\", second)\n",
    "print(\"Third country:\", third)\n",
    "print(\"Scandic countries:\", scandic_countries)\n"
   ]
  }
 ],
 "metadata": {
  "kernelspec": {
   "display_name": "base",
   "language": "python",
   "name": "python3"
  },
  "language_info": {
   "codemirror_mode": {
    "name": "ipython",
    "version": 3
   },
   "file_extension": ".py",
   "mimetype": "text/x-python",
   "name": "python",
   "nbconvert_exporter": "python",
   "pygments_lexer": "ipython3",
   "version": "3.11.7"
  }
 },
 "nbformat": 4,
 "nbformat_minor": 5
}
