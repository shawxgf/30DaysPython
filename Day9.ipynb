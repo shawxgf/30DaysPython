{
 "cells": [
  {
   "cell_type": "markdown",
   "id": "13ded5dc",
   "metadata": {},
   "source": [
    "1.Get user input using input(“Enter your age: ”). If user is 18 or older, give feedback: You are old enough to drive. If below 18 give feedback to wait for the missing amount of years. Output:"
   ]
  },
  {
   "cell_type": "code",
   "execution_count": 1,
   "id": "73095a5b",
   "metadata": {},
   "outputs": [
    {
     "name": "stdout",
     "output_type": "stream",
     "text": [
      "You are old enough to drive.\n"
     ]
    }
   ],
   "source": [
    "age = int(input(\"Enter your age: \"))\n",
    "if age >= 18:\n",
    "    print(\"You are old enough to drive.\")\n",
    "else:\n",
    "    print(\"You need\", 18 - age, \"years to drive.\")"
   ]
  },
  {
   "cell_type": "markdown",
   "id": "51062a37",
   "metadata": {},
   "source": [
    "2.Compare the values of my_age and your_age using if … else. Who is older (me or you)? Use input(“Enter your age: ”) to get the age as input. You can use a nested condition to print 'year' for 1 year difference in age, 'years' for bigger differences, and a custom text if my_age = your_age. Output:"
   ]
  },
  {
   "cell_type": "code",
   "execution_count": 2,
   "id": "e2a1dabe",
   "metadata": {},
   "outputs": [
    {
     "name": "stdout",
     "output_type": "stream",
     "text": [
      "You are 20 years older than me.\n"
     ]
    }
   ],
   "source": [
    "your_age = int(input(\"Enter your age: \"))\n",
    "my_age = 30  # Example age, replace with your actual age\n",
    "if your_age > my_age:\n",
    "    print(\"You are\", your_age - my_age, \"years older than me.\")\n",
    "elif your_age < my_age:\n",
    "    print(\"I am\", my_age - your_age, \"years older than you.\")\n",
    "else:\n",
    "    print(\"We are the same age.\")"
   ]
  },
  {
   "cell_type": "markdown",
   "id": "9aa761e8",
   "metadata": {},
   "source": [
    "3.Get two numbers from the user using input prompt. If a is greater than b return a is greater than b, if a is less b return a is smaller than b, else a is equal to b. Output:"
   ]
  },
  {
   "cell_type": "code",
   "execution_count": null,
   "id": "72567c2c",
   "metadata": {},
   "outputs": [],
   "source": [
    "a = int(input(\"Enter first number: \"))\n",
    "b = int(input(\"Enter second number: \"))\n",
    "if a > b:\n",
    "    print(\"a is greater than b\")\n",
    "elif a < b:\n",
    "    print(\"a is smaller than b\")\n",
    "else:\n",
    "    print(\"a is equal to b\")"
   ]
  },
  {
   "cell_type": "markdown",
   "id": "a3a2c9c7",
   "metadata": {},
   "source": [
    "4.Write a code which gives grade to students according to theirs scores:"
   ]
  },
  {
   "cell_type": "code",
   "execution_count": null,
   "id": "fa40b756",
   "metadata": {},
   "outputs": [],
   "source": [
    "score = int(input(\"Enter your score: \"))\n",
    "if score >= 80:\n",
    "    print(\"Grade A\")\n",
    "elif score >= 70:\n",
    "    print(\"Grade B\")\n",
    "elif score >= 60:\n",
    "    print(\"Grade C\")\n",
    "elif score >= 50:\n",
    "    print(\"Grade D\")\n",
    "else:\n",
    "    print(\"Grade F\")\n"
   ]
  },
  {
   "cell_type": "markdown",
   "id": "c21d732c",
   "metadata": {},
   "source": [
    "5.Check if the season is Autumn, Winter, Spring or Summer. If the user input is: September, October or November, the season is Autumn. December, January or February, the season is Winter. March, April or May, the season is Spring June, July or August, the season is Summer"
   ]
  },
  {
   "cell_type": "code",
   "execution_count": null,
   "id": "28df04f2",
   "metadata": {},
   "outputs": [],
   "source": [
    "season = input(\"Enter the month: \")\n",
    "if season in [\"September\", \"October\", \"November\"]:\n",
    "    print(\"Autumn\")\n",
    "elif season in [\"December\", \"January\", \"February\"]:\n",
    "    print(\"Winter\")\n",
    "elif season in [\"March\", \"April\", \"May\"]:\n",
    "    print(\"Spring\")\n",
    "elif season in [\"June\", \"July\", \"August\"]:\n",
    "    print(\"Summer\")\n",
    "else:\n",
    "    print(\"Invalid month\")"
   ]
  },
  {
   "cell_type": "markdown",
   "id": "ae7ffbba",
   "metadata": {},
   "source": [
    "6.The following list contains some fruits:\n",
    "If a fruit doesn't exist in the list add the fruit to the list and print the modified list. If the fruit exists print('That fruit already exist in the list')"
   ]
  },
  {
   "cell_type": "code",
   "execution_count": null,
   "id": "50bf18c8",
   "metadata": {},
   "outputs": [],
   "source": [
    "fruits = ['banana', 'orange', 'mango', 'lemon']\n",
    "fruit = input(\"Enter a fruit: \")\n",
    "if fruit in fruits:\n",
    "    print(\"That fruit already exist in the list\")\n",
    "else:\n",
    "    fruits.append(fruit)\n",
    "    print(fruits)"
   ]
  },
  {
   "cell_type": "markdown",
   "id": "592ef958",
   "metadata": {},
   "source": [
    "7.Here we have a person dictionary. Feel free to modify it!"
   ]
  },
  {
   "cell_type": "code",
   "execution_count": 3,
   "id": "d61ccfa3",
   "metadata": {},
   "outputs": [
    {
     "name": "stdout",
     "output_type": "stream",
     "text": [
      "Modified person dictionary: {'first_name': 'John', 'last_name': 'Yetayeh', 'age': 250, 'country': 'Finland', 'is_marred': True, 'skills': ['JavaScript', 'React', 'Node', 'MongoDB', 'Python'], 'address': {'street': 'Space street', 'zipcode': '02210'}}\n"
     ]
    }
   ],
   "source": [
    "person={\n",
    "    'first_name': 'Asabeneh',\n",
    "    'last_name': 'Yetayeh',\n",
    "    'age': 250,\n",
    "    'country': 'Finland',\n",
    "    'is_marred': True,\n",
    "    'skills': ['JavaScript', 'React', 'Node', 'MongoDB', 'Python'],\n",
    "    'address': {\n",
    "        'street': 'Space street',\n",
    "        'zipcode': '02210'\n",
    "    }\n",
    "    }\n",
    "\n",
    "person_modified = person.copy()\n",
    "person_modified['first_name'] = 'John'\n",
    "print(\"Modified person dictionary:\", person_modified)"
   ]
  },
  {
   "cell_type": "code",
   "execution_count": null,
   "id": "56cb45bc",
   "metadata": {},
   "outputs": [
    {
     "name": "stdout",
     "output_type": "stream",
     "text": [
      "Middle skill: Node\n"
     ]
    }
   ],
   "source": [
    "# Check if the person dictionary has skills key, if so print out the middle skill in the skills list.\n",
    "if person_modified['skills']:\n",
    "    print(\"Middle skill:\", person_modified['skills'][len(person_modified['skills']) // 2])\n",
    "else:\n",
    "    print(\"No skills available to find the middle skill.\")"
   ]
  },
  {
   "cell_type": "code",
   "execution_count": null,
   "id": "7382fdd0",
   "metadata": {},
   "outputs": [
    {
     "name": "stdout",
     "output_type": "stream",
     "text": [
      "The person has Python skill.\n"
     ]
    }
   ],
   "source": [
    "# Check if the person dictionary has skills key, if so check if the person has 'Python' skill and print out the result.\n",
    "if person_modified['skills']:\n",
    "    if 'Python' in person_modified['skills']:\n",
    "        print(\"The person has Python skill.\")\n",
    "    else:\n",
    "        print(\"The person does not have Python skill.\")\n",
    "else:\n",
    "    print(\"No skills available to find the middle skill.\")\n"
   ]
  },
  {
   "cell_type": "code",
   "execution_count": null,
   "id": "bd708a17",
   "metadata": {},
   "outputs": [],
   "source": [
    "# If a person skills has only JavaScript and React, print('He is a front end developer'), if the person skills has Node, Python, MongoDB, print('He is a backend developer'), if the person skills has React, Node and MongoDB, Print('He is a fullstack developer'), else print('unknown title') - for more accurate results more conditions can be nested!\n",
    "if person_modified['skills']:\n",
    "    if 'JavaScript' in person_modified['skills'] and 'React' in person_modified['skills']:\n",
    "        print(\"He is a front end developer\")\n",
    "    elif 'Node' in person_modified['skills'] and 'Python' in person_modified['skills'] and 'MongoDB' in person_modified['skills']:\n",
    "        print(\"He is a backend developer\")\n",
    "    elif 'React' in person_modified['skills'] and 'Node' in person_modified['skills'] and 'MongoDB' in person_modified['skills']:\n",
    "        print(\"He is a fullstack developer\")\n",
    "    else:\n",
    "        print(\"unknown title\")\n",
    "else:\n",
    "    print(\"No skills available to find the title.\")"
   ]
  },
  {
   "cell_type": "code",
   "execution_count": 7,
   "id": "edfc59b5",
   "metadata": {},
   "outputs": [
    {
     "name": "stdout",
     "output_type": "stream",
     "text": [
      "John Yetayeh lives in Finland. He is married.\n"
     ]
    }
   ],
   "source": [
    "# If the person is married and if he lives in Finland, print the information in the following format:\n",
    "# Asabeneh Yetayeh lives in Finland. He is married.\n",
    "if person_modified['is_marred'] and person_modified['country'] == 'Finland':\n",
    "    print(f\"{person_modified['first_name']} {person_modified['last_name']} lives in {person_modified['country']}. He is married.\")\n",
    "else:\n",
    "    print(f\"{person_modified['first_name']} {person_modified['last_name']} lives in {person_modified['country']}. He is not married.\")"
   ]
  }
 ],
 "metadata": {
  "kernelspec": {
   "display_name": "base",
   "language": "python",
   "name": "python3"
  },
  "language_info": {
   "codemirror_mode": {
    "name": "ipython",
    "version": 3
   },
   "file_extension": ".py",
   "mimetype": "text/x-python",
   "name": "python",
   "nbconvert_exporter": "python",
   "pygments_lexer": "ipython3",
   "version": "3.11.7"
  }
 },
 "nbformat": 4,
 "nbformat_minor": 5
}
