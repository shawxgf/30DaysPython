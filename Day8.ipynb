{
 "cells": [
  {
   "cell_type": "markdown",
   "id": "6a583306",
   "metadata": {},
   "source": [
    "1.Create an empty dictionary called dog"
   ]
  },
  {
   "cell_type": "code",
   "execution_count": 1,
   "id": "c872c44d",
   "metadata": {},
   "outputs": [
    {
     "name": "stdout",
     "output_type": "stream",
     "text": [
      "{}\n"
     ]
    }
   ],
   "source": [
    "dog = {}\n",
    "print(dog)"
   ]
  },
  {
   "cell_type": "markdown",
   "id": "87a76f15",
   "metadata": {},
   "source": [
    "2.Add name, color, breed, legs, age to the dog dictionary"
   ]
  },
  {
   "cell_type": "code",
   "execution_count": 2,
   "id": "da6921d2",
   "metadata": {},
   "outputs": [
    {
     "name": "stdout",
     "output_type": "stream",
     "text": [
      "{'name': 'Buddy', 'color': 'Brown', 'breed': 'Golden Retriever', 'legs': 4, 'age': 3}\n"
     ]
    }
   ],
   "source": [
    "dog = {\"name\": \"Buddy\", \"color\": \"Brown\", \"breed\": \"Golden Retriever\", \"legs\": 4, \"age\": 3}\n",
    "print(dog)\n"
   ]
  },
  {
   "cell_type": "markdown",
   "id": "d1c075f8",
   "metadata": {},
   "source": [
    "3.Create a student dictionary and add first_name, last_name, gender, age, marital status, skills, country, city and address as keys for the dictionary"
   ]
  },
  {
   "cell_type": "code",
   "execution_count": 3,
   "id": "dd919ca4",
   "metadata": {},
   "outputs": [
    {
     "name": "stdout",
     "output_type": "stream",
     "text": [
      "{'first_name': 'John', 'last_name': 'Doe', 'gender': 'Male', 'age': 25, 'marital_status': 'Single', 'skills': ['Python', 'Java', 'C++'], 'country': 'USA', 'city': 'New York', 'address': '123 Main St'}\n"
     ]
    }
   ],
   "source": [
    "student = {    \n",
    "    \"first_name\": \"John\",\n",
    "    \"last_name\": \"Doe\", \n",
    "    \"gender\": \"Male\",\n",
    "    \"age\": 25,\n",
    "    \"marital_status\": \"Single\",\n",
    "    \"skills\": [\"Python\", \"Java\", \"C++\"],\n",
    "    \"country\": \"USA\",\n",
    "    \"city\": \"New York\",\n",
    "    \"address\": \"123 Main St\"\n",
    "}\n",
    "print(student)\n"
   ]
  },
  {
   "cell_type": "markdown",
   "id": "e19db921",
   "metadata": {},
   "source": [
    "4.Get the length of the student dictionary"
   ]
  },
  {
   "cell_type": "code",
   "execution_count": 4,
   "id": "e58c5064",
   "metadata": {},
   "outputs": [
    {
     "name": "stdout",
     "output_type": "stream",
     "text": [
      "9\n"
     ]
    }
   ],
   "source": [
    "length_of_student_dict = len(student)\n",
    "print(length_of_student_dict)   "
   ]
  },
  {
   "cell_type": "markdown",
   "id": "0268aec6",
   "metadata": {},
   "source": [
    "5.Get the value of skills and check the data type, it should be a list"
   ]
  },
  {
   "cell_type": "code",
   "execution_count": 5,
   "id": "fdb4224a",
   "metadata": {},
   "outputs": [
    {
     "name": "stdout",
     "output_type": "stream",
     "text": [
      "<class 'list'>\n"
     ]
    }
   ],
   "source": [
    "skills = student[\"skills\"]\n",
    "print(type(skills))\n"
   ]
  },
  {
   "cell_type": "markdown",
   "id": "f2e5b780",
   "metadata": {},
   "source": [
    "6.Modify the skills values by adding one or two skills"
   ]
  },
  {
   "cell_type": "code",
   "execution_count": 6,
   "id": "7aa7edd1",
   "metadata": {},
   "outputs": [
    {
     "name": "stdout",
     "output_type": "stream",
     "text": [
      "['Python', 'Java', 'C++', 'JavaScript', 'HTML']\n"
     ]
    }
   ],
   "source": [
    "student['skills'].extend([\"JavaScript\", \"HTML\"])\n",
    "print(student[\"skills\"])"
   ]
  },
  {
   "cell_type": "markdown",
   "id": "64539a99",
   "metadata": {},
   "source": [
    "7.Get the dictionary keys as a list"
   ]
  },
  {
   "cell_type": "code",
   "execution_count": 7,
   "id": "0af6dec1",
   "metadata": {},
   "outputs": [
    {
     "name": "stdout",
     "output_type": "stream",
     "text": [
      "['first_name', 'last_name', 'gender', 'age', 'marital_status', 'skills', 'country', 'city', 'address']\n"
     ]
    }
   ],
   "source": [
    "dict_keys = list(student.keys())\n",
    "print(dict_keys)"
   ]
  },
  {
   "cell_type": "markdown",
   "id": "2270953e",
   "metadata": {},
   "source": [
    "8.Get the dictionary values as a list"
   ]
  },
  {
   "cell_type": "code",
   "execution_count": 8,
   "id": "785020a5",
   "metadata": {},
   "outputs": [
    {
     "name": "stdout",
     "output_type": "stream",
     "text": [
      "['John', 'Doe', 'Male', 25, 'Single', ['Python', 'Java', 'C++', 'JavaScript', 'HTML'], 'USA', 'New York', '123 Main St']\n"
     ]
    }
   ],
   "source": [
    "dict_values = list(student.values())\n",
    "print(dict_values)"
   ]
  },
  {
   "cell_type": "markdown",
   "id": "43c1c3da",
   "metadata": {},
   "source": [
    "9.Change the dictionary to a list of tuples using items() method"
   ]
  },
  {
   "cell_type": "code",
   "execution_count": 9,
   "id": "0bd85b73",
   "metadata": {},
   "outputs": [
    {
     "name": "stdout",
     "output_type": "stream",
     "text": [
      "[('first_name', 'John'), ('last_name', 'Doe'), ('gender', 'Male'), ('age', 25), ('marital_status', 'Single'), ('skills', ['Python', 'Java', 'C++', 'JavaScript', 'HTML']), ('country', 'USA'), ('city', 'New York'), ('address', '123 Main St')]\n"
     ]
    }
   ],
   "source": [
    "items_list = list(student.items())\n",
    "print(items_list)"
   ]
  },
  {
   "cell_type": "markdown",
   "id": "2fd85c4d",
   "metadata": {},
   "source": [
    "10.Delete one of the items in the dictionary"
   ]
  },
  {
   "cell_type": "code",
   "execution_count": 10,
   "id": "4cd09fdd",
   "metadata": {},
   "outputs": [
    {
     "name": "stdout",
     "output_type": "stream",
     "text": [
      "{'first_name': 'John', 'last_name': 'Doe', 'gender': 'Male', 'age': 25, 'skills': ['Python', 'Java', 'C++', 'JavaScript', 'HTML'], 'country': 'USA', 'city': 'New York', 'address': '123 Main St'}\n"
     ]
    }
   ],
   "source": [
    "student.pop(\"marital_status\")\n",
    "print(student)"
   ]
  },
  {
   "cell_type": "markdown",
   "id": "963aef0f",
   "metadata": {},
   "source": [
    "11.Delete one of the dictionaries"
   ]
  },
  {
   "cell_type": "code",
   "execution_count": 12,
   "id": "cf6bca9d",
   "metadata": {},
   "outputs": [
    {
     "ename": "NameError",
     "evalue": "name 'student' is not defined",
     "output_type": "error",
     "traceback": [
      "\u001b[1;31m---------------------------------------------------------------------------\u001b[0m",
      "\u001b[1;31mNameError\u001b[0m                                 Traceback (most recent call last)",
      "Cell \u001b[1;32mIn[12], line 2\u001b[0m\n\u001b[0;32m      1\u001b[0m \u001b[38;5;28;01mdel\u001b[39;00m student\n\u001b[1;32m----> 2\u001b[0m \u001b[38;5;28mprint\u001b[39m(\u001b[43mstudent\u001b[49m)\n",
      "\u001b[1;31mNameError\u001b[0m: name 'student' is not defined"
     ]
    }
   ],
   "source": [
    "del student\n",
    "print(student)"
   ]
  }
 ],
 "metadata": {
  "kernelspec": {
   "display_name": "base",
   "language": "python",
   "name": "python3"
  },
  "language_info": {
   "codemirror_mode": {
    "name": "ipython",
    "version": 3
   },
   "file_extension": ".py",
   "mimetype": "text/x-python",
   "name": "python",
   "nbconvert_exporter": "python",
   "pygments_lexer": "ipython3",
   "version": "3.11.7"
  }
 },
 "nbformat": 4,
 "nbformat_minor": 5
}
