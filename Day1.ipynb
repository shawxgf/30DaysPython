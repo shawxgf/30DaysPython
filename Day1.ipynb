{
 "cells": [
  {
   "cell_type": "markdown",
   "id": "a2bf8dab",
   "metadata": {},
   "source": [
    "1.Check the python version you are using"
   ]
  },
  {
   "cell_type": "code",
   "execution_count": 6,
   "id": "318fcd47",
   "metadata": {},
   "outputs": [
    {
     "name": "stdout",
     "output_type": "stream",
     "text": [
      "3.11.7 | packaged by Anaconda, Inc. | (main, Dec 15 2023, 18:05:47) [MSC v.1916 64 bit (AMD64)]\n"
     ]
    }
   ],
   "source": [
    "import sys\n",
    "print(sys.version)\n",
    "\n"
   ]
  },
  {
   "cell_type": "markdown",
   "id": "f4624554",
   "metadata": {},
   "source": [
    "2.Open the python interactive shell and do the following operations. The operands are 3 and 4.\n",
    "- addition(+)\n",
    "- subtraction(-)\n",
    "- multiplication(*)\n",
    "- modulus(%)\n",
    "- division(/)\n",
    "- exponential(**)\n",
    "- floor division operator(//)"
   ]
  },
  {
   "cell_type": "code",
   "execution_count": 8,
   "id": "4858a41e",
   "metadata": {},
   "outputs": [
    {
     "name": "stdout",
     "output_type": "stream",
     "text": [
      "if a = 3 and b = 4, then\n",
      "a + b = 7\n",
      "a - b = -1\n",
      "a * b = 12\n",
      "a % b = 3\n",
      "a / b = 0.75\n",
      "a ** b = 81\n"
     ]
    }
   ],
   "source": [
    "a = 3\n",
    "b = 4\n",
    "print(\"if a = 3 and b = 4, then\")  # floor division\n",
    "print(\"a + b =\", a + b)  # addition\n",
    "print(\"a - b =\", a - b)  # subtraction\n",
    "print(\"a * b =\", a * b)  # multiplication\n",
    "print(\"a % b =\", a % b)  # modulus\n",
    "print(\"a / b =\", a / b)  # division\n",
    "print(\"a ** b =\", a ** b)  # exponential\n"
   ]
  },
  {
   "cell_type": "markdown",
   "id": "555dd508",
   "metadata": {},
   "source": [
    "3.Write strings on the python interactive shell. The strings are the following:\n",
    "- Your name\n",
    "- Your family name\n",
    "- Your country\n",
    "- I am enjoying 30 days of python"
   ]
  },
  {
   "cell_type": "code",
   "execution_count": null,
   "id": "eb07a433",
   "metadata": {},
   "outputs": [
    {
     "name": "stdout",
     "output_type": "stream",
     "text": [
      "My name is Patrick Shawn and my family name is Shawn . I am from China . I am enjoying 30 days of python\n"
     ]
    }
   ],
   "source": [
    "name = \"Patrick Shawn\"\n",
    "family_name = \"Shawn\"\n",
    "country = \"China\"\n",
    "enjoyment_message = \"I am enjoying 30 days of python\"\n",
    "\n",
    "\n",
    "print(\"My name is\", name, \"and my family name is\", family_name, \".\", \"I am from\", country, \".\", enjoyment_message)\n"
   ]
  },
  {
   "cell_type": "markdown",
   "id": "e6695403",
   "metadata": {},
   "source": [
    "4.Check the data types of the following data:\n",
    "- 10\n",
    "- 9.8\n",
    "- 3.14\n",
    "- 4 - 4j\n",
    "- ['Asabeneh', 'Python', 'Finland']\n",
    "- Your name\n",
    "- Your family name\n",
    "- Your country"
   ]
  },
  {
   "cell_type": "code",
   "execution_count": 12,
   "id": "6698f14f",
   "metadata": {},
   "outputs": [
    {
     "data": {
      "text/plain": [
       "builtin_function_or_method"
      ]
     },
     "execution_count": 12,
     "metadata": {},
     "output_type": "execute_result"
    }
   ],
   "source": [
    "type(10)  # int\n",
    "type(9.8)  # float\n",
    "type(3.14)  # float\n",
    "type(4 + 3j)  # complex\n",
    "type('30DaysOfPython')  # str\n",
    "type(\"Python\")  # str\n",
    "type(True)  # bool\n",
    "type(False)  # bool\n",
    "type([1, 2.0, '30Days', [1, 2, 3]])  # list\n",
    "type({'name': 'Asabeneh', 'country': 'Finland', 'city': 'Helsinki', 'age': 250})  # dict\n",
    "type((1, 2, 3))  # tuple\n",
    "type({1, 2, 3})  # set \n",
    "type(range(0, 10))  # range\n",
    "type(None)  # NoneType\n",
    "type(abs)  # function\n"
   ]
  }
 ],
 "metadata": {
  "kernelspec": {
   "display_name": "base",
   "language": "python",
   "name": "python3"
  },
  "language_info": {
   "codemirror_mode": {
    "name": "ipython",
    "version": 3
   },
   "file_extension": ".py",
   "mimetype": "text/x-python",
   "name": "python",
   "nbconvert_exporter": "python",
   "pygments_lexer": "ipython3",
   "version": "3.11.7"
  }
 },
 "nbformat": 4,
 "nbformat_minor": 5
}
