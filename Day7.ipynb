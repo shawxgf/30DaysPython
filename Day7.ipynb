{
 "cells": [
  {
   "cell_type": "markdown",
   "id": "35ce539f",
   "metadata": {},
   "source": [
    "# Exercises: Level 1"
   ]
  },
  {
   "cell_type": "markdown",
   "id": "56263553",
   "metadata": {},
   "source": [
    "1.Find the length of the set it_companies"
   ]
  },
  {
   "cell_type": "code",
   "execution_count": 9,
   "id": "0a2d0a29",
   "metadata": {},
   "outputs": [
    {
     "name": "stdout",
     "output_type": "stream",
     "text": [
      "7\n"
     ]
    }
   ],
   "source": [
    "# sets\n",
    "it_companies = {'Facebook', 'Google', 'Microsoft', 'Apple', 'IBM', 'Oracle', 'Amazon'}\n",
    "A = {19, 22, 24, 20, 25, 26}\n",
    "B = {19, 22, 20, 25, 26, 24, 28, 27}\n",
    "age = [22, 19, 24, 25, 26, 24, 25, 24]\n",
    "\n",
    "print(len(it_companies))"
   ]
  },
  {
   "cell_type": "markdown",
   "id": "b206777a",
   "metadata": {},
   "source": [
    "2.Add 'Twitter' to it_companies"
   ]
  },
  {
   "cell_type": "code",
   "execution_count": null,
   "id": "a521f8a7",
   "metadata": {},
   "outputs": [
    {
     "name": "stdout",
     "output_type": "stream",
     "text": [
      "None\n"
     ]
    }
   ],
   "source": [
    "it_companies.add('Twitter')  # Add 'Twitter' to it_companies\n",
    "print(it_companies)"
   ]
  },
  {
   "cell_type": "markdown",
   "id": "f38738f2",
   "metadata": {},
   "source": [
    "3.Insert multiple IT companies at once to the set it_companies"
   ]
  },
  {
   "cell_type": "code",
   "execution_count": 7,
   "id": "2fdc5ce5",
   "metadata": {},
   "outputs": [
    {
     "name": "stdout",
     "output_type": "stream",
     "text": [
      "{'Spotify', 'Microsoft', 'Netflix', 'IBM', 'Telsa', 'Facebook', 'Oracle', 'Twitter', 'Google', 'Apple', 'Amazon'}\n"
     ]
    }
   ],
   "source": [
    "it_companies.update(['Telsa', 'Netflix', 'Spotify'])  # Insert multiple IT companies at once to the set it_companies\n",
    "print(it_companies)"
   ]
  },
  {
   "cell_type": "markdown",
   "id": "613fb54c",
   "metadata": {},
   "source": [
    "# "
   ]
  },
  {
   "cell_type": "markdown",
   "id": "c9848053",
   "metadata": {},
   "source": [
    "4.Remove one of the companies from the set it_companies"
   ]
  },
  {
   "cell_type": "code",
   "execution_count": 8,
   "id": "eca82610",
   "metadata": {},
   "outputs": [
    {
     "name": "stdout",
     "output_type": "stream",
     "text": [
      "{'Microsoft', 'Netflix', 'IBM', 'Telsa', 'Facebook', 'Oracle', 'Twitter', 'Google', 'Apple', 'Amazon'}\n"
     ]
    }
   ],
   "source": [
    "it_companies.pop()  # Remove one of the companies from the set it_companies\n",
    "print(it_companies)"
   ]
  },
  {
   "cell_type": "markdown",
   "id": "fb2b024a",
   "metadata": {},
   "source": [
    "5.What is the difference between remove and discard"
   ]
  },
  {
   "cell_type": "code",
   "execution_count": 12,
   "id": "2687d545",
   "metadata": {},
   "outputs": [
    {
     "ename": "KeyError",
     "evalue": "'durian'",
     "output_type": "error",
     "traceback": [
      "\u001b[1;31m---------------------------------------------------------------------------\u001b[0m",
      "\u001b[1;31mKeyError\u001b[0m                                  Traceback (most recent call last)",
      "Cell \u001b[1;32mIn[12], line 4\u001b[0m\n\u001b[0;32m      1\u001b[0m fruits \u001b[38;5;241m=\u001b[39m {\u001b[38;5;124m\"\u001b[39m\u001b[38;5;124mapple\u001b[39m\u001b[38;5;124m\"\u001b[39m, \u001b[38;5;124m\"\u001b[39m\u001b[38;5;124mbanana\u001b[39m\u001b[38;5;124m\"\u001b[39m, \u001b[38;5;124m\"\u001b[39m\u001b[38;5;124mcherry\u001b[39m\u001b[38;5;124m\"\u001b[39m}\n\u001b[0;32m      3\u001b[0m fruits\u001b[38;5;241m.\u001b[39mremove(\u001b[38;5;124m\"\u001b[39m\u001b[38;5;124mbanana\u001b[39m\u001b[38;5;124m\"\u001b[39m)  \u001b[38;5;66;03m# ✅ Removes \"banana\"\u001b[39;00m\n\u001b[1;32m----> 4\u001b[0m \u001b[43mfruits\u001b[49m\u001b[38;5;241;43m.\u001b[39;49m\u001b[43mremove\u001b[49m\u001b[43m(\u001b[49m\u001b[38;5;124;43m\"\u001b[39;49m\u001b[38;5;124;43mdurian\u001b[39;49m\u001b[38;5;124;43m\"\u001b[39;49m\u001b[43m)\u001b[49m  \u001b[38;5;66;03m# ❌ KeyError: 'durian' (not in the set)\u001b[39;00m\n\u001b[0;32m      6\u001b[0m fruits\u001b[38;5;241m.\u001b[39mdiscard(\u001b[38;5;124m\"\u001b[39m\u001b[38;5;124mbanana\u001b[39m\u001b[38;5;124m\"\u001b[39m)  \u001b[38;5;66;03m# ✅ Removes \"banana\"\u001b[39;00m\n\u001b[0;32m      7\u001b[0m fruits\u001b[38;5;241m.\u001b[39mdiscard(\u001b[38;5;124m\"\u001b[39m\u001b[38;5;124mdurian\u001b[39m\u001b[38;5;124m\"\u001b[39m)  \u001b[38;5;66;03m# ✅ Does nothing (no error)\u001b[39;00m\n",
      "\u001b[1;31mKeyError\u001b[0m: 'durian'"
     ]
    }
   ],
   "source": [
    "fruits = {\"apple\", \"banana\", \"cherry\"}\n",
    "\n",
    "fruits.remove(\"banana\")  # ✅ Removes \"banana\"\n",
    "fruits.remove(\"durian\")  # ❌ KeyError: 'durian' (not in the set)\n",
    "\n",
    "fruits.discard(\"banana\")  # ✅ Removes \"banana\"\n",
    "fruits.discard(\"durian\")  # ✅ Does nothing (no error)"
   ]
  },
  {
   "cell_type": "markdown",
   "id": "cbcf42a3",
   "metadata": {},
   "source": [
    "# Exercises: Level 2"
   ]
  },
  {
   "cell_type": "markdown",
   "id": "e47db193",
   "metadata": {},
   "source": [
    "1.Join A and B"
   ]
  },
  {
   "cell_type": "code",
   "execution_count": 13,
   "id": "aeb14017",
   "metadata": {},
   "outputs": [
    {
     "name": "stdout",
     "output_type": "stream",
     "text": [
      "{19, 20, 22, 24, 25, 26, 27, 28}\n"
     ]
    }
   ],
   "source": [
    "joined_set = A.union(B)  # Join A and B\n",
    "print(joined_set)"
   ]
  },
  {
   "cell_type": "markdown",
   "id": "fef16a70",
   "metadata": {},
   "source": [
    "2.Find A intersection B"
   ]
  },
  {
   "cell_type": "code",
   "execution_count": 14,
   "id": "bbda4eca",
   "metadata": {},
   "outputs": [
    {
     "name": "stdout",
     "output_type": "stream",
     "text": [
      "{19, 20, 22, 24, 25, 26}\n"
     ]
    }
   ],
   "source": [
    "intersection_set = A.intersection(B)  # Find A intersection B\n",
    "print(intersection_set)"
   ]
  },
  {
   "cell_type": "markdown",
   "id": "4f771199",
   "metadata": {},
   "source": [
    "3.Is A subset of B"
   ]
  },
  {
   "cell_type": "code",
   "execution_count": 15,
   "id": "636f3963",
   "metadata": {},
   "outputs": [
    {
     "name": "stdout",
     "output_type": "stream",
     "text": [
      "True\n"
     ]
    }
   ],
   "source": [
    "subset_check = A.issubset(B)  # Check if A is a subset of B\n",
    "print(subset_check)"
   ]
  },
  {
   "cell_type": "markdown",
   "id": "46a786fd",
   "metadata": {},
   "source": [
    "4.Are A and B disjoint sets"
   ]
  },
  {
   "cell_type": "code",
   "execution_count": 16,
   "id": "0729c474",
   "metadata": {},
   "outputs": [
    {
     "name": "stdout",
     "output_type": "stream",
     "text": [
      "False\n"
     ]
    }
   ],
   "source": [
    "disjoint_check = A.isdisjoint(B)  # Check if A and B are disjoint sets\n",
    "print(disjoint_check)"
   ]
  },
  {
   "cell_type": "markdown",
   "id": "d94f9046",
   "metadata": {},
   "source": [
    "5.Join A with B and B with A"
   ]
  },
  {
   "cell_type": "code",
   "execution_count": 17,
   "id": "78e6eb63",
   "metadata": {},
   "outputs": [
    {
     "name": "stdout",
     "output_type": "stream",
     "text": [
      "{19, 20, 22, 24, 25, 26, 27, 28}\n",
      "{19, 20, 22, 24, 25, 26, 27, 28}\n"
     ]
    }
   ],
   "source": [
    "joined_a_b = A.union(B)  # Join A with B\n",
    "joined_b_a = B.union(A)  # Join B with A    \n",
    "print(joined_a_b)\n",
    "print(joined_b_a)"
   ]
  },
  {
   "cell_type": "markdown",
   "id": "e1fbefe3",
   "metadata": {},
   "source": [
    "6.What is the symmetric difference between A and B"
   ]
  },
  {
   "cell_type": "code",
   "execution_count": 18,
   "id": "28364fe9",
   "metadata": {},
   "outputs": [
    {
     "name": "stdout",
     "output_type": "stream",
     "text": [
      "{27, 28}\n"
     ]
    }
   ],
   "source": [
    "symmetric_difference = A.symmetric_difference(B)  # Find the symmetric difference between A and B\n",
    "print(symmetric_difference)"
   ]
  },
  {
   "cell_type": "markdown",
   "id": "4650c60d",
   "metadata": {},
   "source": [
    "7.Delete the sets completely"
   ]
  },
  {
   "cell_type": "code",
   "execution_count": 19,
   "id": "6054573e",
   "metadata": {},
   "outputs": [],
   "source": [
    "del A, B"
   ]
  },
  {
   "cell_type": "markdown",
   "id": "b21e99d7",
   "metadata": {},
   "source": [
    "# Exercises: Level 3"
   ]
  },
  {
   "cell_type": "markdown",
   "id": "6ff7e457",
   "metadata": {},
   "source": [
    "1.Convert the ages to a set and compare the length of the list and the set, which one is bigger?"
   ]
  },
  {
   "cell_type": "code",
   "execution_count": 20,
   "id": "c94605d6",
   "metadata": {},
   "outputs": [
    {
     "name": "stdout",
     "output_type": "stream",
     "text": [
      "8\n",
      "5\n"
     ]
    }
   ],
   "source": [
    "age_set = set(age)  # Convert the ages to a set\n",
    "print(len(age))  # Compare the length of the list and the set\n",
    "print(len(age_set))\n"
   ]
  },
  {
   "cell_type": "markdown",
   "id": "af038bef",
   "metadata": {},
   "source": [
    "2.Explain the difference between the following data types: string, list, tuple and set\n",
    "String: A string is a sequence of characters enclosed in quotes. It is immutable, meaning that its values cannot be changed once it is created.\n",
    "List: A list is a collection of items that are ordered and changeable. It is mutable, meaning that its values can be changed once it is created.\n",
    "Tuple: A tuple is a collection of items that are ordered and unchangeable. It is immutable, meaning that its values cannot be changed once it is created."
   ]
  },
  {
   "cell_type": "markdown",
   "id": "d2ea13d6",
   "metadata": {},
   "source": [
    "3.I am a teacher and I love to inspire and teach people. How many unique words have been used in the sentence? Use the split methods and set to get the unique words."
   ]
  },
  {
   "cell_type": "code",
   "execution_count": 21,
   "id": "64d28d0d",
   "metadata": {},
   "outputs": [
    {
     "name": "stdout",
     "output_type": "stream",
     "text": [
      "10\n"
     ]
    }
   ],
   "source": [
    "sentence = \"I am a teacher and I love to inspire and teach people.\"\n",
    "unique_words = set(sentence.split())  # Split the sentence into words and convert to a set to get unique words\n",
    "print(len(unique_words))"
   ]
  }
 ],
 "metadata": {
  "kernelspec": {
   "display_name": "base",
   "language": "python",
   "name": "python3"
  },
  "language_info": {
   "codemirror_mode": {
    "name": "ipython",
    "version": 3
   },
   "file_extension": ".py",
   "mimetype": "text/x-python",
   "name": "python",
   "nbconvert_exporter": "python",
   "pygments_lexer": "ipython3",
   "version": "3.11.7"
  }
 },
 "nbformat": 4,
 "nbformat_minor": 5
}
