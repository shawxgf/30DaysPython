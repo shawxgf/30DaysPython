{
 "cells": [
  {
   "cell_type": "markdown",
   "id": "35ce539f",
   "metadata": {},
   "source": [
    "# Exercises: Level 1"
   ]
  },
  {
   "cell_type": "markdown",
   "id": "56263553",
   "metadata": {},
   "source": [
    "1.Find the length of the set it_companies"
   ]
  },
  {
   "cell_type": "code",
   "execution_count": 9,
   "id": "0a2d0a29",
   "metadata": {},
   "outputs": [
    {
     "name": "stdout",
     "output_type": "stream",
     "text": [
      "7\n"
     ]
    }
   ],
   "source": [
    "# sets\n",
    "it_companies = {'Facebook', 'Google', 'Microsoft', 'Apple', 'IBM', 'Oracle', 'Amazon'}\n",
    "A = {19, 22, 24, 20, 25, 26}\n",
    "B = {19, 22, 20, 25, 26, 24, 28, 27}\n",
    "age = [22, 19, 24, 25, 26, 24, 25, 24]\n",
    "\n",
    "print(len(it_companies))"
   ]
  },
  {
   "cell_type": "markdown",
   "id": "b206777a",
   "metadata": {},
   "source": [
    "2.Add 'Twitter' to it_companies"
   ]
  },
  {
   "cell_type": "code",
   "execution_count": null,
   "id": "a521f8a7",
   "metadata": {},
   "outputs": [
    {
     "name": "stdout",
     "output_type": "stream",
     "text": [
      "None\n"
     ]
    }
   ],
   "source": [
    "it_companies.add('Twitter')  # Add 'Twitter' to it_companies\n",
    "print(it_companies)"
   ]
  },
  {
   "cell_type": "markdown",
   "id": "f38738f2",
   "metadata": {},
   "source": [
    "3.Insert multiple IT companies at once to the set it_companies"
   ]
  },
  {
   "cell_type": "code",
   "execution_count": 7,
   "id": "2fdc5ce5",
   "metadata": {},
   "outputs": [
    {
     "name": "stdout",
     "output_type": "stream",
     "text": [
      "{'Spotify', 'Microsoft', 'Netflix', 'IBM', 'Telsa', 'Facebook', 'Oracle', 'Twitter', 'Google', 'Apple', 'Amazon'}\n"
     ]
    }
   ],
   "source": [
    "it_companies.update(['Telsa', 'Netflix', 'Spotify'])  # Insert multiple IT companies at once to the set it_companies\n",
    "print(it_companies)"
   ]
  },
  {
   "cell_type": "markdown",
   "id": "613fb54c",
   "metadata": {},
   "source": [
    "# "
   ]
  },
  {
   "cell_type": "markdown",
   "id": "c9848053",
   "metadata": {},
   "source": [
    "4.Remove one of the companies from the set it_companies"
   ]
  },
  {
   "cell_type": "code",
   "execution_count": 8,
   "id": "eca82610",
   "metadata": {},
   "outputs": [
    {
     "name": "stdout",
     "output_type": "stream",
     "text": [
      "{'Microsoft', 'Netflix', 'IBM', 'Telsa', 'Facebook', 'Oracle', 'Twitter', 'Google', 'Apple', 'Amazon'}\n"
     ]
    }
   ],
   "source": [
    "it_companies.pop()  # Remove one of the companies from the set it_companies\n",
    "print(it_companies)"
   ]
  },
  {
   "cell_type": "markdown",
   "id": "fb2b024a",
   "metadata": {},
   "source": [
    "5.What is the difference between remove and discard"
   ]
  },
  {
   "cell_type": "code",
   "execution_count": 12,
   "id": "2687d545",
   "metadata": {},
   "outputs": [
    {
     "ename": "KeyError",
     "evalue": "'durian'",
     "output_type": "error",
     "traceback": [
      "\u001b[1;31m---------------------------------------------------------------------------\u001b[0m",
      "\u001b[1;31mKeyError\u001b[0m                                  Traceback (most recent call last)",
      "Cell \u001b[1;32mIn[12], line 4\u001b[0m\n\u001b[0;32m      1\u001b[0m fruits \u001b[38;5;241m=\u001b[39m {\u001b[38;5;124m\"\u001b[39m\u001b[38;5;124mapple\u001b[39m\u001b[38;5;124m\"\u001b[39m, \u001b[38;5;124m\"\u001b[39m\u001b[38;5;124mbanana\u001b[39m\u001b[38;5;124m\"\u001b[39m, \u001b[38;5;124m\"\u001b[39m\u001b[38;5;124mcherry\u001b[39m\u001b[38;5;124m\"\u001b[39m}\n\u001b[0;32m      3\u001b[0m fruits\u001b[38;5;241m.\u001b[39mremove(\u001b[38;5;124m\"\u001b[39m\u001b[38;5;124mbanana\u001b[39m\u001b[38;5;124m\"\u001b[39m)  \u001b[38;5;66;03m# ✅ Removes \"banana\"\u001b[39;00m\n\u001b[1;32m----> 4\u001b[0m \u001b[43mfruits\u001b[49m\u001b[38;5;241;43m.\u001b[39;49m\u001b[43mremove\u001b[49m\u001b[43m(\u001b[49m\u001b[38;5;124;43m\"\u001b[39;49m\u001b[38;5;124;43mdurian\u001b[39;49m\u001b[38;5;124;43m\"\u001b[39;49m\u001b[43m)\u001b[49m  \u001b[38;5;66;03m# ❌ KeyError: 'durian' (not in the set)\u001b[39;00m\n\u001b[0;32m      6\u001b[0m fruits\u001b[38;5;241m.\u001b[39mdiscard(\u001b[38;5;124m\"\u001b[39m\u001b[38;5;124mbanana\u001b[39m\u001b[38;5;124m\"\u001b[39m)  \u001b[38;5;66;03m# ✅ Removes \"banana\"\u001b[39;00m\n\u001b[0;32m      7\u001b[0m fruits\u001b[38;5;241m.\u001b[39mdiscard(\u001b[38;5;124m\"\u001b[39m\u001b[38;5;124mdurian\u001b[39m\u001b[38;5;124m\"\u001b[39m)  \u001b[38;5;66;03m# ✅ Does nothing (no error)\u001b[39;00m\n",
      "\u001b[1;31mKeyError\u001b[0m: 'durian'"
     ]
    }
   ],
   "source": [
    "fruits = {\"apple\", \"banana\", \"cherry\"}\n",
    "\n",
    "fruits.remove(\"banana\")  # ✅ Removes \"banana\"\n",
    "fruits.remove(\"durian\")  # ❌ KeyError: 'durian' (not in the set)\n",
    "\n",
    "fruits.discard(\"banana\")  # ✅ Removes \"banana\"\n",
    "fruits.discard(\"durian\")  # ✅ Does nothing (no error)"
   ]
  },
  {
   "cell_type": "markdown",
   "id": "cbcf42a3",
   "metadata": {},
   "source": [
    "# Exercises: Level 2"
   ]
  },
  {
   "cell_type": "markdown",
   "id": "e47db193",
   "metadata": {},
   "source": [
    "1.Join A and B"
   ]
  },
  {
   "cell_type": "code",
   "execution_count": 13,
   "id": "aeb14017",
   "metadata": {},
   "outputs": [
    {
     "name": "stdout",
     "output_type": "stream",
     "text": [
      "{19, 20, 22, 24, 25, 26, 27, 28}\n"
     ]
    }
   ],
   "source": [
    "joined_set = A.union(B)  # Join A and B\n",
    "print(joined_set)"
   ]
  }
 ],
 "metadata": {
  "kernelspec": {
   "display_name": "base",
   "language": "python",
   "name": "python3"
  },
  "language_info": {
   "codemirror_mode": {
    "name": "ipython",
    "version": 3
   },
   "file_extension": ".py",
   "mimetype": "text/x-python",
   "name": "python",
   "nbconvert_exporter": "python",
   "pygments_lexer": "ipython3",
   "version": "3.11.7"
  }
 },
 "nbformat": 4,
 "nbformat_minor": 5
}
