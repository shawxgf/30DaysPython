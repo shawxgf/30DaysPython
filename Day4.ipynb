{
 "cells": [
  {
   "cell_type": "markdown",
   "id": "e0248573",
   "metadata": {},
   "source": [
    "1.Concatenate the string 'Thirty', 'Days', 'Of', 'Python' to a single string, 'Thirty Days Of Python'."
   ]
  },
  {
   "cell_type": "code",
   "execution_count": null,
   "id": "e70cdff2",
   "metadata": {},
   "outputs": [
    {
     "name": "stdout",
     "output_type": "stream",
     "text": [
      "Thirty Days Of Python\n"
     ]
    }
   ],
   "source": [
    "conString1 = 'Thirty' + ' ' + 'Days' + ' ' + 'Of' + ' ' + 'Python'\n",
    "print(conString1)\n"
   ]
  },
  {
   "cell_type": "markdown",
   "id": "382e2b3a",
   "metadata": {},
   "source": [
    "2.Concatenate the string 'Coding', 'For' , 'All' to a single string, 'Coding For All'."
   ]
  },
  {
   "cell_type": "code",
   "execution_count": 2,
   "id": "9b7e4517",
   "metadata": {},
   "outputs": [
    {
     "name": "stdout",
     "output_type": "stream",
     "text": [
      "Coding For All\n"
     ]
    }
   ],
   "source": [
    "conString2 = 'Coding' + ' ' + 'For' + ' ' + 'All'\n",
    "print(conString2)"
   ]
  },
  {
   "cell_type": "markdown",
   "id": "440606d8",
   "metadata": {},
   "source": [
    "3.Declare a variable named company and assign it to an initial value \"Coding For All\"."
   ]
  },
  {
   "cell_type": "code",
   "execution_count": 3,
   "id": "210d1032",
   "metadata": {},
   "outputs": [
    {
     "name": "stdout",
     "output_type": "stream",
     "text": [
      "Coding For All\n"
     ]
    }
   ],
   "source": [
    "company = \"Coding For All\"\n",
    "print(company)"
   ]
  },
  {
   "cell_type": "markdown",
   "id": "127779ea",
   "metadata": {},
   "source": [
    "4.Print the variable company using print()."
   ]
  },
  {
   "cell_type": "code",
   "execution_count": 4,
   "id": "67dc3bf4",
   "metadata": {},
   "outputs": [
    {
     "name": "stdout",
     "output_type": "stream",
     "text": [
      "Coding For All\n"
     ]
    }
   ],
   "source": [
    "print(company)"
   ]
  },
  {
   "cell_type": "markdown",
   "id": "827a6acf",
   "metadata": {},
   "source": [
    "5.Print the length of the company string using len() method and print().5."
   ]
  },
  {
   "cell_type": "code",
   "execution_count": 5,
   "id": "63a0aae6",
   "metadata": {},
   "outputs": [
    {
     "name": "stdout",
     "output_type": "stream",
     "text": [
      "14\n"
     ]
    }
   ],
   "source": [
    "print(len(company))"
   ]
  },
  {
   "cell_type": "markdown",
   "id": "832a96f4",
   "metadata": {},
   "source": [
    "6.Change all the characters to uppercase letters using upper() method."
   ]
  },
  {
   "cell_type": "code",
   "execution_count": 8,
   "id": "4a9e960a",
   "metadata": {},
   "outputs": [
    {
     "data": {
      "text/plain": [
       "'CODING FOR ALL'"
      ]
     },
     "execution_count": 8,
     "metadata": {},
     "output_type": "execute_result"
    }
   ],
   "source": [
    "company.upper()"
   ]
  },
  {
   "cell_type": "markdown",
   "id": "3b86c9cd",
   "metadata": {},
   "source": [
    "7.Change all the characters to lowercase letters using lower() method."
   ]
  },
  {
   "cell_type": "code",
   "execution_count": 10,
   "id": "e4640f51",
   "metadata": {},
   "outputs": [
    {
     "data": {
      "text/plain": [
       "'coding for all'"
      ]
     },
     "execution_count": 10,
     "metadata": {},
     "output_type": "execute_result"
    }
   ],
   "source": [
    "company.lower()"
   ]
  },
  {
   "cell_type": "markdown",
   "id": "30d775af",
   "metadata": {},
   "source": [
    "8.Use capitalize(), title(), swapcase() methods to format the value of the string Coding For All."
   ]
  },
  {
   "cell_type": "code",
   "execution_count": 12,
   "id": "828a744a",
   "metadata": {},
   "outputs": [
    {
     "name": "stdout",
     "output_type": "stream",
     "text": [
      "Coding for all\n",
      "Coding For All\n",
      "cODING fOR aLL\n"
     ]
    }
   ],
   "source": [
    "print(company.capitalize())\n",
    "print(company.title())\n",
    "print(company.swapcase())"
   ]
  },
  {
   "cell_type": "markdown",
   "id": "42518336",
   "metadata": {},
   "source": [
    "9.Cut(slice) out the first word of Coding For All string."
   ]
  },
  {
   "cell_type": "code",
   "execution_count": 14,
   "id": "e92a54ba",
   "metadata": {},
   "outputs": [
    {
     "data": {
      "text/plain": [
       "'Coding'"
      ]
     },
     "execution_count": 14,
     "metadata": {},
     "output_type": "execute_result"
    }
   ],
   "source": [
    "company[0:6]  # Slicing out the first word 'Coding'"
   ]
  },
  {
   "cell_type": "markdown",
   "id": "d1cad8c9",
   "metadata": {},
   "source": [
    "10.Check if Coding For All string contains a word Coding using the method index, find or other methods."
   ]
  },
  {
   "cell_type": "code",
   "execution_count": 15,
   "id": "15dcacca",
   "metadata": {},
   "outputs": [
    {
     "data": {
      "text/plain": [
       "0"
      ]
     },
     "execution_count": 15,
     "metadata": {},
     "output_type": "execute_result"
    }
   ],
   "source": [
    "company.find('Coding')  # Check if 'Coding' is in the string\n",
    "company.index('Coding')  # Another way to check if 'Coding' is in the string"
   ]
  },
  {
   "cell_type": "markdown",
   "id": "fc17d127",
   "metadata": {},
   "source": [
    "11.Replace the word coding in the string 'Coding For All' to Python."
   ]
  },
  {
   "cell_type": "code",
   "execution_count": 16,
   "id": "fdc0b690",
   "metadata": {},
   "outputs": [
    {
     "data": {
      "text/plain": [
       "'Python For All'"
      ]
     },
     "execution_count": 16,
     "metadata": {},
     "output_type": "execute_result"
    }
   ],
   "source": [
    "company.replace('Coding', 'Python')  # Replace 'Coding' with 'Python'"
   ]
  },
  {
   "cell_type": "markdown",
   "id": "859fe9ee",
   "metadata": {},
   "source": [
    "12.Change Python for Everyone to Python for All using the replace method or other methods."
   ]
  },
  {
   "cell_type": "code",
   "execution_count": 18,
   "id": "41b3e33d",
   "metadata": {},
   "outputs": [
    {
     "data": {
      "text/plain": [
       "'Python for Everyone'"
      ]
     },
     "execution_count": 18,
     "metadata": {},
     "output_type": "execute_result"
    }
   ],
   "source": [
    "\"Python for Everyone\".replace('For Everyone', 'For All')  # Replace 'For Everyone' with '"
   ]
  },
  {
   "cell_type": "markdown",
   "id": "729ba0c1",
   "metadata": {},
   "source": [
    "13.Split the string 'Coding For All' using space as the separator (split()) ."
   ]
  },
  {
   "cell_type": "code",
   "execution_count": 19,
   "id": "bdbf8e7c",
   "metadata": {},
   "outputs": [
    {
     "data": {
      "text/plain": [
       "['Coding', 'For', 'All']"
      ]
     },
     "execution_count": 19,
     "metadata": {},
     "output_type": "execute_result"
    }
   ],
   "source": [
    "company.split()  # Split the string into a list of words using space as the separator"
   ]
  },
  {
   "cell_type": "markdown",
   "id": "87bd9e28",
   "metadata": {},
   "source": [
    "14.\"Facebook, Google, Microsoft, Apple, IBM, Oracle, Amazon\" split the string at the comma."
   ]
  },
  {
   "cell_type": "code",
   "execution_count": 20,
   "id": "1aa68029",
   "metadata": {},
   "outputs": [
    {
     "data": {
      "text/plain": [
       "['Facebook', 'Google', 'Microsoft', 'Apple', 'IBM', 'Oracle', 'Amazon']"
      ]
     },
     "execution_count": 20,
     "metadata": {},
     "output_type": "execute_result"
    }
   ],
   "source": [
    "GagaCompany = \"Facebook, Google, Microsoft, Apple, IBM, Oracle, Amazon\"\n",
    "GagaCompany.split(', ')  # Split the string at the comma and space"
   ]
  },
  {
   "cell_type": "markdown",
   "id": "abad26a7",
   "metadata": {},
   "source": [
    "15.What is the character at index 0 in the string Coding For All."
   ]
  },
  {
   "cell_type": "code",
   "execution_count": 22,
   "id": "9b221339",
   "metadata": {},
   "outputs": [
    {
     "data": {
      "text/plain": [
       "'C'"
      ]
     },
     "execution_count": 22,
     "metadata": {},
     "output_type": "execute_result"
    }
   ],
   "source": [
    "\n",
    "company[0]  # Get the character at index 0"
   ]
  },
  {
   "cell_type": "markdown",
   "id": "0262b1f8",
   "metadata": {},
   "source": [
    "16.What is the last index of the string Coding For All."
   ]
  },
  {
   "cell_type": "code",
   "execution_count": 23,
   "id": "ea98ff07",
   "metadata": {},
   "outputs": [
    {
     "data": {
      "text/plain": [
       "'l'"
      ]
     },
     "execution_count": 23,
     "metadata": {},
     "output_type": "execute_result"
    }
   ],
   "source": [
    "company[-1]"
   ]
  },
  {
   "cell_type": "markdown",
   "id": "1e4beabf",
   "metadata": {},
   "source": [
    "17.What character is at index 10 in \"Coding For All\" string."
   ]
  },
  {
   "cell_type": "code",
   "execution_count": 24,
   "id": "d7bda581",
   "metadata": {},
   "outputs": [
    {
     "data": {
      "text/plain": [
       "' '"
      ]
     },
     "execution_count": 24,
     "metadata": {},
     "output_type": "execute_result"
    }
   ],
   "source": [
    "company[10]"
   ]
  },
  {
   "cell_type": "markdown",
   "id": "60a582f3",
   "metadata": {},
   "source": [
    "18.Create an acronym or an abbreviation for the name 'Python For Everyone'."
   ]
  },
  {
   "cell_type": "code",
   "execution_count": 25,
   "id": "62a8965f",
   "metadata": {},
   "outputs": [
    {
     "name": "stdout",
     "output_type": "stream",
     "text": [
      "CFA\n"
     ]
    }
   ],
   "source": [
    "company.split(\" \")  # Split the string into a list of words using space as the separator\n",
    "acronym = \"\"\n",
    "for word in company.split(\" \"):\n",
    "    acronym += word[0].upper()\n",
    "print(acronym)"
   ]
  },
  {
   "cell_type": "markdown",
   "id": "8ccfe173",
   "metadata": {},
   "source": [
    "19.Create an acronym or an abbreviation for the name 'Coding For All'."
   ]
  },
  {
   "cell_type": "code",
   "execution_count": 30,
   "id": "7b747b2a",
   "metadata": {},
   "outputs": [
    {
     "name": "stdout",
     "output_type": "stream",
     "text": [
      "CFA\n"
     ]
    }
   ],
   "source": [
    "name = \"Coding For All\"\n",
    "acronym = \"\"\n",
    "for word in name.split(\" \"):\n",
    "    acronym += word[0].upper()\n",
    "print(acronym)"
   ]
  },
  {
   "cell_type": "markdown",
   "id": "10a72969",
   "metadata": {},
   "source": [
    "20.Use index to determine the position of the first occurrence of C in Coding For All."
   ]
  },
  {
   "cell_type": "code",
   "execution_count": 31,
   "id": "a9420f4a",
   "metadata": {},
   "outputs": [
    {
     "data": {
      "text/plain": [
       "0"
      ]
     },
     "execution_count": 31,
     "metadata": {},
     "output_type": "execute_result"
    }
   ],
   "source": [
    "name.index('C')  # Use index to determine the position of the first occurrence of 'C' in 'Coding For All'"
   ]
  },
  {
   "cell_type": "markdown",
   "id": "52bec5d0",
   "metadata": {},
   "source": [
    "21.se index to determine the position of the first occurrence of F in Coding For All."
   ]
  },
  {
   "cell_type": "code",
   "execution_count": 32,
   "id": "2c4e06ee",
   "metadata": {},
   "outputs": [
    {
     "data": {
      "text/plain": [
       "7"
      ]
     },
     "execution_count": 32,
     "metadata": {},
     "output_type": "execute_result"
    }
   ],
   "source": [
    "name.index('F')  # Use index to determine the position of the first occurrence of 'F' in 'Coding For All'"
   ]
  },
  {
   "cell_type": "markdown",
   "id": "14a1f287",
   "metadata": {},
   "source": [
    "22.Use rfind to determine the position of the last occurrence of l in Coding For All People."
   ]
  },
  {
   "cell_type": "code",
   "execution_count": 33,
   "id": "76cc7cc3",
   "metadata": {},
   "outputs": [
    {
     "data": {
      "text/plain": [
       "13"
      ]
     },
     "execution_count": 33,
     "metadata": {},
     "output_type": "execute_result"
    }
   ],
   "source": [
    "company.rfind('l')  # Use rfind to determine the position of the last occurrence of 'l' in 'Coding For All People'"
   ]
  },
  {
   "cell_type": "markdown",
   "id": "3f9741ce",
   "metadata": {},
   "source": [
    "23.Use index or find to find the position of the first occurrence of the word 'because' in the following sentence: 'You cannot end a sentence with because because because is a conjunction'"
   ]
  },
  {
   "cell_type": "code",
   "execution_count": 34,
   "id": "acaea52c",
   "metadata": {},
   "outputs": [
    {
     "name": "stdout",
     "output_type": "stream",
     "text": [
      "31\n"
     ]
    }
   ],
   "source": [
    "sentence = \"You cannot end a sentence with because because because is a conjunction\"\n",
    "position = sentence.find('because')  # Use find to determine the position of the first occurrence of 'because'\n",
    "print(position)"
   ]
  },
  {
   "cell_type": "markdown",
   "id": "11023d24",
   "metadata": {},
   "source": [
    "24.Use rindex to find the position of the last occurrence of the word because in the following sentence: 'You cannot end a sentence with because because because is a conjunction'"
   ]
  },
  {
   "cell_type": "code",
   "execution_count": 35,
   "id": "b2f25c6f",
   "metadata": {},
   "outputs": [
    {
     "name": "stdout",
     "output_type": "stream",
     "text": [
      "47\n"
     ]
    }
   ],
   "source": [
    "sentence = \"You cannot end a sentence with because because because is a conjunction\"\n",
    "last_occurrence = sentence.rindex('because')  # Use rindex to find the position of the last occurrence of 'because'\n",
    "print(last_occurrence)"
   ]
  },
  {
   "cell_type": "markdown",
   "id": "6fc79b31",
   "metadata": {},
   "source": [
    "25.Slice out the phrase 'because because because' in the following sentence: 'You cannot end a sentence with because because because is a conjunction'"
   ]
  },
  {
   "cell_type": "code",
   "execution_count": 36,
   "id": "be0b8afe",
   "metadata": {},
   "outputs": [
    {
     "name": "stdout",
     "output_type": "stream",
     "text": [
      "because because because\n"
     ]
    }
   ],
   "source": [
    "sentence = \"You cannot end a sentence with because because because is a conjunction\"\n",
    "first_occurrence = sentence.find('because')  # Find the position of the first occurrence of\n",
    "last_occurrence = sentence.rindex('because')  # Find the position of the last occurrence of\n",
    "phrase = sentence[first_occurrence:last_occurrence + len('because')]  # Slice out the phrase 'because because because'\n",
    "print(phrase)\n",
    "\n",
    "\n"
   ]
  },
  {
   "cell_type": "markdown",
   "id": "22784258",
   "metadata": {},
   "source": [
    "26.Find the position of the first occurrence of the word 'because' in the following sentence: 'You cannot end a sentence with because because because is a conjunction'"
   ]
  },
  {
   "cell_type": "code",
   "execution_count": 37,
   "id": "5a39326c",
   "metadata": {},
   "outputs": [
    {
     "name": "stdout",
     "output_type": "stream",
     "text": [
      "31\n"
     ]
    }
   ],
   "source": [
    "sentence = \"You cannot end a sentence with because because because is a conjunction\"\n",
    "position = sentence.find('because')  # Use find to determine the position of the first occurrence of 'because'\n",
    "print(position)"
   ]
  },
  {
   "cell_type": "markdown",
   "id": "811baeaf",
   "metadata": {},
   "source": [
    "27.Slice out the phrase 'because because because' in the following sentence: 'You cannot end a sentence with because because because is a conjunction'"
   ]
  },
  {
   "cell_type": "code",
   "execution_count": 38,
   "id": "ac1c15bd",
   "metadata": {},
   "outputs": [
    {
     "name": "stdout",
     "output_type": "stream",
     "text": [
      "because because because\n"
     ]
    }
   ],
   "source": [
    "sentence = \"You cannot end a sentence with because because because is a conjunction\"\n",
    "first_occurrence = sentence.find('because')  # Find the position of the first occurrence of\n",
    "last_occurrence = sentence.rindex('because')  # Find the position of the last occurrence of\n",
    "phrase = sentence[first_occurrence:last_occurrence + len('because')]  # Slice out the phrase 'because because because'\n",
    "print(phrase)"
   ]
  },
  {
   "cell_type": "markdown",
   "id": "ad53a473",
   "metadata": {},
   "source": [
    "28.Dose \"Coding For All\" start with a substring Coding?"
   ]
  },
  {
   "cell_type": "code",
   "execution_count": 2,
   "id": "93190eac",
   "metadata": {},
   "outputs": [
    {
     "data": {
      "text/plain": [
       "True"
      ]
     },
     "execution_count": 2,
     "metadata": {},
     "output_type": "execute_result"
    }
   ],
   "source": [
    "sentence = \"Coding For All\"\n",
    "sentence.startswith('Coding')  # Check if the string starts with 'Coding'"
   ]
  },
  {
   "cell_type": "markdown",
   "id": "5a60391a",
   "metadata": {},
   "source": [
    "29.Does 'Coding For All' end with a substring coding?"
   ]
  },
  {
   "cell_type": "code",
   "execution_count": 2,
   "id": "dc82de1b",
   "metadata": {},
   "outputs": [
    {
     "data": {
      "text/plain": [
       "False"
      ]
     },
     "execution_count": 2,
     "metadata": {},
     "output_type": "execute_result"
    }
   ],
   "source": [
    "sentence = \"Coding For All\"\n",
    "sentence.endswith('coding')  # Check if the string ends with 'coding'"
   ]
  },
  {
   "cell_type": "markdown",
   "id": "492982b6",
   "metadata": {},
   "source": [
    "30.'   Coding For All      '  , remove the left and right trailing spaces in the given string."
   ]
  },
  {
   "cell_type": "code",
   "execution_count": 5,
   "id": "32d8aad5",
   "metadata": {},
   "outputs": [
    {
     "data": {
      "text/plain": [
       "'Coding For All'"
      ]
     },
     "execution_count": 5,
     "metadata": {},
     "output_type": "execute_result"
    }
   ],
   "source": [
    "# '   Coding For All      '  , remove the left and right trailing spaces in the given string.\n",
    "sentence = '   Coding For All      '\n",
    "sentence.strip()  # Remove the left and right trailing spaces"
   ]
  },
  {
   "cell_type": "markdown",
   "id": "a8e90951",
   "metadata": {},
   "source": [
    "31.Which one of the following variables return True when we use the method isidentifier():\n",
    "\n",
    "-30DaysOfPython\n",
    "\n",
    "-thirty_days_of_python"
   ]
  },
  {
   "cell_type": "code",
   "execution_count": 7,
   "id": "b23decbb",
   "metadata": {},
   "outputs": [
    {
     "name": "stdout",
     "output_type": "stream",
     "text": [
      "False\n",
      "True\n"
     ]
    }
   ],
   "source": [
    "s1 = '30DaysOfPython'\n",
    "s2 = 'thirty_days_of_python'\n",
    "print(s1.isidentifier())  # Check if the string is a valid identifier\n",
    "print(s2.isidentifier())  # Check if the string is a valid identifier"
   ]
  },
  {
   "cell_type": "markdown",
   "id": "4fffa378",
   "metadata": {},
   "source": [
    "32.The following list contains the names of some of python libraries: ['Django', 'Flask', 'Bottle', 'Pyramid', 'Falcon']. Join the list with a hash with space string."
   ]
  },
  {
   "cell_type": "code",
   "execution_count": 8,
   "id": "d0d93416",
   "metadata": {},
   "outputs": [
    {
     "data": {
      "text/plain": [
       "'Django# Flask# Bottle# Pyramid# Falcon'"
      ]
     },
     "execution_count": 8,
     "metadata": {},
     "output_type": "execute_result"
    }
   ],
   "source": [
    "list1 = ['Django', 'Flask', 'Bottle', 'Pyramid', 'Falcon']\n",
    "'# '.join(list1)  # Join the list with a hash with space string\n"
   ]
  },
  {
   "cell_type": "markdown",
   "id": "fd84958b",
   "metadata": {},
   "source": [
    "33.Use the new line escape sequence to separate the following sentences."
   ]
  },
  {
   "cell_type": "code",
   "execution_count": 9,
   "id": "22de19ff",
   "metadata": {},
   "outputs": [
    {
     "name": "stdout",
     "output_type": "stream",
     "text": [
      "I am enjoying this challenge.\n",
      "I just wonder what is next.\n"
     ]
    }
   ],
   "source": [
    "sentence = \"I am enjoying this challenge.\\nI just wonder what is next.\"\n",
    "print(sentence)  # Print the sentence with a new line escape sequence\n"
   ]
  },
  {
   "cell_type": "markdown",
   "id": "7bc28a5a",
   "metadata": {},
   "source": [
    "34.Use a tab escape sequence to write the following lines."
   ]
  },
  {
   "cell_type": "code",
   "execution_count": 10,
   "id": "b8c0ab8b",
   "metadata": {},
   "outputs": [
    {
     "name": "stdout",
     "output_type": "stream",
     "text": [
      "Name\tAge\tCountry\tCity\n",
      "Asabeneh\t250\tFinland\tHelsinki\n"
     ]
    }
   ],
   "source": [
    "print(\"Name\\tAge\\tCountry\\tCity\\nAsabeneh\\t250\\tFinland\\tHelsinki\")\n"
   ]
  },
  {
   "cell_type": "markdown",
   "id": "0b1e08c8",
   "metadata": {},
   "source": [
    "35.Use the string formatting method to display the following."
   ]
  },
  {
   "cell_type": "code",
   "execution_count": 16,
   "id": "267c1d4d",
   "metadata": {},
   "outputs": [
    {
     "name": "stdout",
     "output_type": "stream",
     "text": [
      "The area of a circle with radius 10 is 314.00 meters square.\n",
      "The area of a circle with radius 10 is 314.00 meters square.\n",
      "The area of a circle with radius 10 is 314.0 meters square.\n",
      "The area of a circle with radius 10 is 314.0 meters square.\n",
      "The area of a circle with radius 10 is 314.00 meters square.\n"
     ]
    }
   ],
   "source": [
    "radius = 10\n",
    "area = 3.14 * radius ** 2\n",
    "print(\"The area of a circle with radius %d is %.2f meters square.\" % (radius, area))\n",
    "print(\"The area of a circle with radius {} is {:.2f} meters square.\".format(radius, area))\n",
    "print(\"The area of a circle with radius {0} is {1} meters square.\".format(radius, area))\n",
    "print(\"The area of a circle with radius {r} is {a} meters square.\".format(r=radius, a=area))\n",
    "print(f\"The area of a circle with radius {radius} is {area:.2f} meters square.\")\n"
   ]
  },
  {
   "cell_type": "markdown",
   "id": "bc68f9b5",
   "metadata": {},
   "source": [
    "36.Make the following using string formatting methods:"
   ]
  },
  {
   "cell_type": "code",
   "execution_count": 19,
   "id": "4e273710",
   "metadata": {},
   "outputs": [
    {
     "name": "stdout",
     "output_type": "stream",
     "text": [
      "8 + 6 = 14\n",
      "8 - 6 = 2\n",
      "8 * 6 = 48\n",
      "8 / 6 = 1.33\n",
      "8 % 6 = 2\n",
      "8 // 6 = 1\n",
      "8 ** 6 = 262144.00\n"
     ]
    }
   ],
   "source": [
    "num1 = 8\n",
    "num2 = 6\n",
    "print(f\"{num1} + {num2} = {num1 + num2}\")\n",
    "print(f\"{num1} - {num2} = {num1 - num2}\")\n",
    "print(f\"{num1} * {num2} = {num1 * num2}\")\n",
    "print(f\"{num1} / {num2} = {num1 / num2:.2f}\")\n",
    "print(f\"{num1} % {num2} = {num1 % num2}\")\n",
    "print(f\"{num1} // {num2} = {num1 // num2}\")\n",
    "print(f\"{num1} ** {num2} = {num1 ** num2:.2f}\")"
   ]
  }
 ],
 "metadata": {
  "kernelspec": {
   "display_name": "base",
   "language": "python",
   "name": "python3"
  },
  "language_info": {
   "codemirror_mode": {
    "name": "ipython",
    "version": 3
   },
   "file_extension": ".py",
   "mimetype": "text/x-python",
   "name": "python",
   "nbconvert_exporter": "python",
   "pygments_lexer": "ipython3",
   "version": "3.11.7"
  }
 },
 "nbformat": 4,
 "nbformat_minor": 5
}
