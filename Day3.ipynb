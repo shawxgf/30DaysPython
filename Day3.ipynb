{
 "cells": [
  {
   "cell_type": "markdown",
   "id": "e3f96baf",
   "metadata": {},
   "source": [
    "1.Declare your age as integer variable"
   ]
  },
  {
   "cell_type": "code",
   "execution_count": null,
   "id": "3d784f8d",
   "metadata": {},
   "outputs": [],
   "source": [
    "age = 30"
   ]
  },
  {
   "cell_type": "markdown",
   "id": "55cc165f",
   "metadata": {},
   "source": [
    "2.Declare your height as a float variable"
   ]
  },
  {
   "cell_type": "code",
   "execution_count": 1,
   "id": "d392dae9",
   "metadata": {},
   "outputs": [],
   "source": [
    "height = 1.75"
   ]
  },
  {
   "cell_type": "markdown",
   "id": "ac2f3234",
   "metadata": {},
   "source": [
    "3.Declare a variable that store a complex number"
   ]
  },
  {
   "cell_type": "code",
   "execution_count": 2,
   "id": "9d80a91f",
   "metadata": {},
   "outputs": [],
   "source": [
    "complex_number = 3 + 4j"
   ]
  },
  {
   "cell_type": "markdown",
   "id": "e7262419",
   "metadata": {},
   "source": [
    "4.Write a script that prompts the user to enter base and height of the triangle and calculate an area of this triangle (area = 0.5 x b x h)."
   ]
  },
  {
   "cell_type": "code",
   "execution_count": null,
   "id": "c33824a1",
   "metadata": {},
   "outputs": [],
   "source": [
    "base = input(\"Enter the base of the triangle: \")\n",
    "height = input(\"Enter the height of the triangle: \")\n",
    "area = 0.5 * int(base) * int(height)\n",
    "print(\"The area of the triangle is\", area)\n"
   ]
  },
  {
   "cell_type": "markdown",
   "id": "eda3b447",
   "metadata": {},
   "source": [
    "5.Write a script that prompts the user to enter side a, side b, and side c of the triangle. Calculate the perimeter of the triangle (perimeter = a + b + c)"
   ]
  },
  {
   "cell_type": "code",
   "execution_count": null,
   "id": "38a25f27",
   "metadata": {},
   "outputs": [],
   "source": [
    "sideA = int(input(\"Enter side a: \"))\n",
    "sideB = int(input(\"Enter side b: \"))    \n",
    "sideC = int(input(\"Enter side c: \"))\n",
    "\n",
    "if sideA == sideB == sideC:\n",
    "    print(\"Equilateral triangle\")\n",
    "elif sideA == sideB or sideB == sideC or sideA == sideC:\n",
    "    print(\"Isosceles triangle\")\n",
    "else:\n",
    "    print(\"Scalene triangle\")\n",
    "\n",
    "perimeter = sideA + sideB + sideC\n",
    "print(\"The perimeter of the triangle is\", perimeter)"
   ]
  },
  {
   "cell_type": "markdown",
   "id": "20b90b97",
   "metadata": {},
   "source": [
    "6.Get length and width of a rectangle using prompt. Calculate its area (area = length x width) and perimeter (perimeter = 2 x (length + width))"
   ]
  },
  {
   "cell_type": "code",
   "execution_count": null,
   "id": "73054edc",
   "metadata": {},
   "outputs": [],
   "source": [
    "length = int(input(\"Enter the length of the rectangle: \"))\n",
    "width = int(input(\"Enter the width of the rectangle: \"))\n",
    "\n",
    "# calculate the area of the rectangle\n",
    "area = length * width\n",
    "\n",
    "# calculate the perimeter of the rectangle\n",
    "perimeter = 2 * (length + width)\n",
    "\n",
    "# print the results\n",
    "print(\"The area of the rectangle is:\", area)\n",
    "print(\"The perimeter of the rectangle is:\", perimeter)"
   ]
  },
  {
   "cell_type": "markdown",
   "id": "6462d5d6",
   "metadata": {},
   "source": [
    "7.Get radius of a circle using prompt. Calculate the area (area = pi x r x r) and circumference (c = 2 x pi x r) where pi = 3.14"
   ]
  },
  {
   "cell_type": "code",
   "execution_count": null,
   "id": "ac5ad54f",
   "metadata": {},
   "outputs": [],
   "source": [
    "radius = float(input(\"Enter the radius of the circle: \"))\n",
    "pi = 3.14\n",
    "area = pi * radius * radius\n",
    "print(\"The area of the circle is:\", area)\n",
    "circumference = 2 * pi * radius\n",
    "print(\"The circumference of the circle is:\", circumference)\n"
   ]
  },
  {
   "cell_type": "markdown",
   "id": "f00273ca",
   "metadata": {},
   "source": [
    "8.Calculate the slope, x-intercept and y-intercept of y = 2x -2"
   ]
  },
  {
   "cell_type": "code",
   "execution_count": 6,
   "id": "d21793c2",
   "metadata": {},
   "outputs": [
    {
     "name": "stdout",
     "output_type": "stream",
     "text": [
      "For the line y = 2x - 2:\n",
      "slope: 2\n",
      "x-intercept: 1.0\n",
      "y-intercept: -2\n"
     ]
    }
   ],
   "source": [
    "# define the slope and y-intercept of the line\n",
    "slope8 = 2\n",
    "y_intercept = -2\n",
    "\n",
    "# calculate the x-intercept\n",
    "# x-intercept is where y = 0, so we set y_intercept to\n",
    "x_intercept = -y_intercept / slope8\n",
    "\n",
    "# print the results\n",
    "print(\"For the line y = 2x - 2:\")\n",
    "print(f\"slope: {slope8}\")\n",
    "print(f\"x-intercept: {x_intercept}\")\n",
    "print(f\"y-intercept: {y_intercept}\")  "
   ]
  },
  {
   "cell_type": "markdown",
   "id": "eaed840b",
   "metadata": {},
   "source": [
    "9.Slope is (m = y2-y1/x2-x1). Find the slope and Euclidean distance between point (2, 2) and point (6,10)"
   ]
  },
  {
   "cell_type": "code",
   "execution_count": 5,
   "id": "8c65fed6",
   "metadata": {},
   "outputs": [
    {
     "name": "stdout",
     "output_type": "stream",
     "text": [
      "2.0 8.94427190999916\n"
     ]
    }
   ],
   "source": [
    "slope9 = (10 - 2) / (6 - 2)\n",
    "distance = ((6 - 2) ** 2 + (10 - 2) ** 2) ** 0.5\n",
    "print(slope9, distance)"
   ]
  },
  {
   "cell_type": "markdown",
   "id": "83cff258",
   "metadata": {},
   "source": [
    "10.Compare the slopes in tasks 8 and 9"
   ]
  },
  {
   "cell_type": "code",
   "execution_count": 7,
   "id": "34b607af",
   "metadata": {},
   "outputs": [
    {
     "name": "stdout",
     "output_type": "stream",
     "text": [
      "The slopes are equal.\n"
     ]
    }
   ],
   "source": [
    "if slope8 == slope9:\n",
    "    print(\"The slopes are equal.\")\n",
    "elif slope8 > slope9:\n",
    "    print(\"The slope of the first line is greater than the second line.\")\n",
    "else:\n",
    "    print(\"The slope of the first line is less than the second line.\")\n",
    "\n",
    "\n"
   ]
  },
  {
   "cell_type": "markdown",
   "id": "d6a4cbe9",
   "metadata": {},
   "source": [
    "11.Calculate the value of y (y = x^2 + 6x + 9). Try to use different x values and figure out at what x value y is going to be 0."
   ]
  },
  {
   "cell_type": "code",
   "execution_count": 8,
   "id": "78ffb677",
   "metadata": {},
   "outputs": [
    {
     "name": "stdout",
     "output_type": "stream",
     "text": [
      "When x = -10, y = 49\n",
      "When x = -9, y = 36\n",
      "When x = -8, y = 25\n",
      "When x = -7, y = 16\n",
      "When x = -6, y = 9\n",
      "When x = -5, y = 4\n",
      "When x = -4, y = 1\n",
      "When x = -3, y = 0\n",
      "When x = -2, y = 1\n",
      "When x = -1, y = 4\n",
      "When x = 0, y = 9\n",
      "When x = 1, y = 16\n",
      "When x = 2, y = 25\n",
      "When x = 3, y = 36\n",
      "When x = 4, y = 49\n",
      "When x = 5, y = 64\n",
      "When x = 6, y = 81\n",
      "When x = 7, y = 100\n",
      "When x = 8, y = 121\n",
      "When x = 9, y = 144\n",
      "When x = 10, y = 169\n"
     ]
    }
   ],
   "source": [
    "for x in range(-10, 11):    \n",
    "    y = x**2 + 6*x + 9\n",
    "    print(f\"When x = {x}, y = {y}\")"
   ]
  },
  {
   "cell_type": "markdown",
   "id": "f79a6f86",
   "metadata": {},
   "source": [
    "12.Find the length of 'python' and 'dragon' and make a falsy comparison statement."
   ]
  },
  {
   "cell_type": "code",
   "execution_count": 9,
   "id": "96c9c6b9",
   "metadata": {},
   "outputs": [
    {
     "name": "stdout",
     "output_type": "stream",
     "text": [
      "6\n",
      "6\n",
      "python is equal to dragon\n"
     ]
    }
   ],
   "source": [
    "length_python = len(\"python\")\n",
    "length_dragon = len(\"dragon\")\n",
    "print(length_python)\n",
    "print(length_dragon)\n",
    "\n",
    "if length_python > length_dragon:\n",
    "    print(\"python is longer than dragon\")\n",
    "elif length_python == length_dragon:\n",
    "    print(\"python is equal to dragon\")\n",
    "else:\n",
    "    print(\"python is shorter than dragon\")"
   ]
  },
  {
   "cell_type": "markdown",
   "id": "f079874c",
   "metadata": {},
   "source": [
    "13.Use and operator to check if 'on' is found in both 'python' and 'dragon'"
   ]
  },
  {
   "cell_type": "code",
   "execution_count": 10,
   "id": "9b88f4e3",
   "metadata": {},
   "outputs": [
    {
     "name": "stdout",
     "output_type": "stream",
     "text": [
      "Is 'on' found in both 'python' and 'dragon'? : True\n"
     ]
    }
   ],
   "source": [
    "result = \"on\" in \"python\" and \"on\" in \"dragon\"\n",
    "print(\"Is 'on' found in both 'python' and 'dragon'? :\", result)"
   ]
  },
  {
   "cell_type": "markdown",
   "id": "00c112a5",
   "metadata": {},
   "source": [
    "14.I hope this course is not full of jargon. Use in operator to check if jargon is in the sentence."
   ]
  },
  {
   "cell_type": "code",
   "execution_count": 11,
   "id": "68a4f906",
   "metadata": {},
   "outputs": [
    {
     "name": "stdout",
     "output_type": "stream",
     "text": [
      "The sentence contains the word 'jargon'.\n"
     ]
    }
   ],
   "source": [
    "sentcence = \"I hope this course is not full of jargon.\"\n",
    "jargon = \"jargon\"\n",
    "if jargon in sentcence:\n",
    "    print(\"The sentence contains the word 'jargon'.\")\n",
    "else:\n",
    "    print(\"The sentence does not contain the word 'jargon'.\")"
   ]
  },
  {
   "cell_type": "markdown",
   "id": "65f2570d",
   "metadata": {},
   "source": [
    "15.There is no 'on' in both dragon and python"
   ]
  },
  {
   "cell_type": "code",
   "execution_count": 12,
   "id": "1785936e",
   "metadata": {},
   "outputs": [
    {
     "name": "stdout",
     "output_type": "stream",
     "text": [
      "Is 'on' not found in both 'python' and 'dragon'? : False\n"
     ]
    }
   ],
   "source": [
    "result = \"on\" not in \"python\" and \"on\" not in \"dragon\"\n",
    "print(\"Is 'on' not found in both 'python' and 'dragon'? :\", result)"
   ]
  },
  {
   "cell_type": "markdown",
   "id": "a1f8c1cd",
   "metadata": {},
   "source": [
    "16.Find the length of the text python and convert the value to float and convert it to string"
   ]
  },
  {
   "cell_type": "code",
   "execution_count": 13,
   "id": "cd3569c9",
   "metadata": {},
   "outputs": [
    {
     "name": "stdout",
     "output_type": "stream",
     "text": [
      "Length of 'python' as float: 6.0\n",
      "Length of 'python' as string: 6.0\n"
     ]
    }
   ],
   "source": [
    "length_python = len(\"python\")\n",
    "float_length = float(length_python)\n",
    "str_length = str(float_length)\n",
    "print(\"Length of 'python' as float:\", float_length)\n",
    "print(\"Length of 'python' as string:\", str_length)"
   ]
  },
  {
   "cell_type": "markdown",
   "id": "4e89b1ae",
   "metadata": {},
   "source": [
    "17.Even numbers are divisible by 2 and the remainder is zero. How do you check if a number is even or not using python?"
   ]
  },
  {
   "cell_type": "code",
   "execution_count": 14,
   "id": "86d4d13f",
   "metadata": {},
   "outputs": [
    {
     "name": "stdout",
     "output_type": "stream",
     "text": [
      "11 is an odd number.\n"
     ]
    }
   ],
   "source": [
    "numbers = input(\"Enter a number: \")\n",
    "# Check if the input is a number\n",
    "try:\n",
    "    numbers = int(numbers)\n",
    "except ValueError:\n",
    "    print(\"Invalid input. Please enter a number.\")\n",
    "# Check if the number is even or odd\n",
    "if int(numbers) % 2 == 0:\n",
    "    print(f\"{numbers} is an even number.\")\n",
    "else:\n",
    "    print(f\"{numbers} is an odd number.\")"
   ]
  },
  {
   "cell_type": "markdown",
   "id": "7403897c",
   "metadata": {},
   "source": [
    "18.Check if the floor division of 7 by 3 is equal to the int converted value of 2.7."
   ]
  },
  {
   "cell_type": "code",
   "execution_count": null,
   "id": "08b469dc",
   "metadata": {},
   "outputs": [],
   "source": [
    "if 7 // 3 == int(2.7):\n",
    "    print(\"The floor division of 7 by 3 is equal to the int converted value of 2.7.\")\n",
    "    "
   ]
  },
  {
   "cell_type": "markdown",
   "id": "8694896e",
   "metadata": {},
   "source": [
    "19.Check if type of '10' is equal to type of 10"
   ]
  },
  {
   "cell_type": "code",
   "execution_count": 15,
   "id": "077f4d4c",
   "metadata": {},
   "outputs": [
    {
     "name": "stdout",
     "output_type": "stream",
     "text": [
      "The type of '10' is not equal to the type of 10.\n"
     ]
    }
   ],
   "source": [
    "if type('10') == type(10):\n",
    "    print(\"The type of '10' is equal to the type of 10.\")\n",
    "else:\n",
    "    print(\"The type of '10' is not equal to the type of 10.\")"
   ]
  },
  {
   "cell_type": "markdown",
   "id": "87bdc459",
   "metadata": {},
   "source": [
    "20.Check if int('9.8') is equal to 10"
   ]
  },
  {
   "cell_type": "code",
   "execution_count": 17,
   "id": "c747b753",
   "metadata": {},
   "outputs": [
    {
     "data": {
      "text/plain": [
       "False"
      ]
     },
     "execution_count": 17,
     "metadata": {},
     "output_type": "execute_result"
    }
   ],
   "source": [
    "try:\n",
    "    value = int('9.8')\n",
    "    is_equal = value == 10\n",
    "except ValueError:\n",
    "    is_equal = False\n",
    "\n",
    "is_equal"
   ]
  },
  {
   "cell_type": "markdown",
   "id": "f0339cbc",
   "metadata": {},
   "source": [
    "21.Write a script that prompts the user to enter hours and rate per hour. Calculate pay of the person?"
   ]
  },
  {
   "cell_type": "code",
   "execution_count": null,
   "id": "d60a01c6",
   "metadata": {},
   "outputs": [],
   "source": [
    "hours = float(input(\"Enter hours: \"))\n",
    "rate_per_hour = float(input(\"Enter rate per hour: \"))\n",
    "pay = hours * rate_per_hour\n",
    "print(\"Pay: \" + str(pay))\n"
   ]
  },
  {
   "cell_type": "markdown",
   "id": "b51e6d16",
   "metadata": {},
   "source": [
    "22.Write a script that prompts the user to enter number of years. Calculate the number of seconds a person can live. Assume a person can live hundred years"
   ]
  },
  {
   "cell_type": "code",
   "execution_count": null,
   "id": "a3d088ef",
   "metadata": {},
   "outputs": [],
   "source": [
    "numbers_of_years = int(input(\"Enter number of years: \"))\n",
    "numbers_of_seconds = (100 - numbers_of_years) * 365 * 24 * 60 * 60\n",
    "print(\"Number of seconds a person can live:\", numbers_of_seconds)"
   ]
  },
  {
   "cell_type": "markdown",
   "id": "a0b67a53",
   "metadata": {},
   "source": [
    "23.Write a Python script that displays the following table"
   ]
  },
  {
   "cell_type": "code",
   "execution_count": 18,
   "id": "4a15937c",
   "metadata": {},
   "outputs": [
    {
     "name": "stdout",
     "output_type": "stream",
     "text": [
      "\n",
      "1 1 1 1 1\n",
      "2 1 2 4 8\n",
      "3 1 3 9 27\n",
      "4 1 4 16 64\n",
      "5 1 5 25 125\n",
      "      \n"
     ]
    }
   ],
   "source": [
    "print(\"\"\"\n",
    "1 1 1 1 1\n",
    "2 1 2 4 8\n",
    "3 1 3 9 27\n",
    "4 1 4 16 64\n",
    "5 1 5 25 125\n",
    "      \"\"\")\n"
   ]
  }
 ],
 "metadata": {
  "kernelspec": {
   "display_name": "base",
   "language": "python",
   "name": "python3"
  },
  "language_info": {
   "codemirror_mode": {
    "name": "ipython",
    "version": 3
   },
   "file_extension": ".py",
   "mimetype": "text/x-python",
   "name": "python",
   "nbconvert_exporter": "python",
   "pygments_lexer": "ipython3",
   "version": "3.11.7"
  }
 },
 "nbformat": 4,
 "nbformat_minor": 5
}
