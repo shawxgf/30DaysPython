{
 "cells": [
  {
   "cell_type": "markdown",
   "id": "f8f2ee18",
   "metadata": {},
   "source": [
    "# Exercises: Level 1"
   ]
  },
  {
   "cell_type": "markdown",
   "id": "1d7febf9",
   "metadata": {},
   "source": [
    "1.Create an empty tuple"
   ]
  },
  {
   "cell_type": "code",
   "execution_count": 1,
   "id": "303ce0ed",
   "metadata": {},
   "outputs": [
    {
     "name": "stdout",
     "output_type": "stream",
     "text": [
      "()\n"
     ]
    }
   ],
   "source": [
    "empty_tuple = ()\n",
    "print(empty_tuple)"
   ]
  },
  {
   "cell_type": "markdown",
   "id": "4fab98e7",
   "metadata": {},
   "source": [
    "2. Create a tuple containing names of your sisters and your brothers"
   ]
  },
  {
   "cell_type": "code",
   "execution_count": 3,
   "id": "107022c9",
   "metadata": {},
   "outputs": [
    {
     "name": "stdout",
     "output_type": "stream",
     "text": [
      "('Tom', 'Jerry', 'Alice', 'May')\n"
     ]
    }
   ],
   "source": [
    "brothers = (\"Tom\", \"Jerry\")\n",
    "sisters = (\"Alice\", \"May\")\n",
    "siblings = brothers + sisters\n",
    "print(siblings)"
   ]
  },
  {
   "cell_type": "markdown",
   "id": "5f77101e",
   "metadata": {},
   "source": [
    "3. Join the brothers and sisters tuples and assign it to siblings"
   ]
  },
  {
   "cell_type": "code",
   "execution_count": 4,
   "id": "269245fe",
   "metadata": {},
   "outputs": [
    {
     "name": "stdout",
     "output_type": "stream",
     "text": [
      "('Tom', 'Jerry', 'Alice', 'May')\n"
     ]
    }
   ],
   "source": [
    "siblings = brothers + sisters\n",
    "print(siblings)"
   ]
  },
  {
   "cell_type": "markdown",
   "id": "6b272c49",
   "metadata": {},
   "source": [
    "4.How many siblings do you have?"
   ]
  },
  {
   "cell_type": "code",
   "execution_count": 5,
   "id": "afb382f0",
   "metadata": {},
   "outputs": [
    {
     "name": "stdout",
     "output_type": "stream",
     "text": [
      "Number of siblings: 4\n"
     ]
    }
   ],
   "source": [
    "number_of_siblings = len(siblings)\n",
    "print(\"Number of siblings:\", number_of_siblings)"
   ]
  },
  {
   "cell_type": "markdown",
   "id": "af73bd11",
   "metadata": {},
   "source": [
    "5.Modify the siblings tuple and add the name of your father and mother and assign it to family_members"
   ]
  },
  {
   "cell_type": "code",
   "execution_count": 6,
   "id": "b05c33f5",
   "metadata": {},
   "outputs": [
    {
     "name": "stdout",
     "output_type": "stream",
     "text": [
      "('Tom', 'Jerry', 'Alice', 'May', 'John', 'Jane')\n"
     ]
    }
   ],
   "source": [
    "father = \"John\"\n",
    "mother = \"Jane\"\n",
    "family_members = siblings + (father, mother)\n",
    "print(family_members)"
   ]
  },
  {
   "cell_type": "markdown",
   "id": "84c4daaf",
   "metadata": {},
   "source": [
    "# Exercises: Level 2"
   ]
  },
  {
   "cell_type": "markdown",
   "id": "6f7c89b5",
   "metadata": {},
   "source": [
    "1.Unpack siblings and parents from family_members"
   ]
  },
  {
   "cell_type": "code",
   "execution_count": 8,
   "id": "ff869323",
   "metadata": {},
   "outputs": [
    {
     "name": "stdout",
     "output_type": "stream",
     "text": [
      "Siblings: ('Tom', 'Jerry', 'Alice', 'May')\n",
      "Parents: ('John', 'Jane')\n"
     ]
    }
   ],
   "source": [
    "siblings, parents = family_members[:-2], family_members[-2:]\n",
    "print(\"Siblings:\", siblings)\n",
    "print(\"Parents:\", parents)"
   ]
  },
  {
   "cell_type": "markdown",
   "id": "be6e8802",
   "metadata": {},
   "source": [
    "2.Create fruits, vegetables and animal products tuples. Join the three tuples and assign it to a variable called food_stuff_tp."
   ]
  },
  {
   "cell_type": "code",
   "execution_count": 10,
   "id": "943861db",
   "metadata": {},
   "outputs": [
    {
     "name": "stdout",
     "output_type": "stream",
     "text": [
      "('apple', 'banana', 'cherry', 'carrot', 'broccoli', 'spinach', 'milk', 'cheese', 'meat')\n"
     ]
    }
   ],
   "source": [
    "fruits = (\"apple\", \"banana\", \"cherry\")\n",
    "vegetables = (\"carrot\", \"broccoli\", \"spinach\")\n",
    "animal_products = (\"milk\", \"cheese\", \"meat\")\n",
    "food_stuff_tp = fruits + vegetables + animal_products\n",
    "print(food_stuff_tp)\n"
   ]
  },
  {
   "cell_type": "markdown",
   "id": "2770745e",
   "metadata": {},
   "source": [
    "3. Change the tuple food_stuff_tp to a list called food_stuff_list\n"
   ]
  },
  {
   "cell_type": "code",
   "execution_count": 16,
   "id": "2f67cd08",
   "metadata": {},
   "outputs": [
    {
     "name": "stdout",
     "output_type": "stream",
     "text": [
      "['apple', 'banana', 'cherry', 'carrot', 'broccoli', 'spinach', 'milk', 'cheese', 'meat']\n"
     ]
    }
   ],
   "source": [
    "food_stuff_list = list(food_stuff_tp)\n",
    "print(food_stuff_list)"
   ]
  },
  {
   "cell_type": "markdown",
   "id": "1e7893bd",
   "metadata": {},
   "source": [
    "4.Slice out the middle item or items from the food_stuff_tp tuple or food_stuff_lt list."
   ]
  },
  {
   "cell_type": "code",
   "execution_count": null,
   "id": "78a20562",
   "metadata": {},
   "outputs": [
    {
     "name": "stdout",
     "output_type": "stream",
     "text": [
      "Middle item(s): broccoli\n"
     ]
    },
    {
     "data": {
      "text/plain": [
       "('Updated food_stuff_list:',\n",
       " ['apple',\n",
       "  'banana',\n",
       "  'cherry',\n",
       "  'carrot',\n",
       "  'broccoli',\n",
       "  'spinach',\n",
       "  'milk',\n",
       "  'cheese',\n",
       "  'meat'])"
      ]
     },
     "execution_count": 12,
     "metadata": {},
     "output_type": "execute_result"
    }
   ],
   "source": [
    "middle_index = len(food_stuff_list) // 2\n",
    "if len(food_stuff_list) % 2 == 0:\n",
    "    middle_items = food_stuff_list[middle_index - 1:middle_index + 1]\n",
    "else:\n",
    "    middle_items = food_stuff_list[middle_index]\n",
    "print(\"Middle item(s):\", middle_items)\n",
    "(\"Updated food_stuff_list:\", food_stuff_list)\n"
   ]
  },
  {
   "cell_type": "markdown",
   "id": "2ceaf280",
   "metadata": {},
   "source": [
    "5.Slice out the first three items and the last three items from food_staff_lt list"
   ]
  },
  {
   "cell_type": "code",
   "execution_count": 13,
   "id": "6c578be1",
   "metadata": {},
   "outputs": [
    {
     "name": "stdout",
     "output_type": "stream",
     "text": [
      "First three items: ['apple', 'banana', 'cherry']\n",
      "Last three items: ['milk', 'cheese', 'meat']\n"
     ]
    }
   ],
   "source": [
    "first_three_items = food_stuff_list[:3]\n",
    "last_three_items = food_stuff_list[-3:]\n",
    "print(\"First three items:\", first_three_items)\n",
    "print(\"Last three items:\", last_three_items)"
   ]
  },
  {
   "cell_type": "markdown",
   "id": "e307382e",
   "metadata": {},
   "source": [
    "6.Delete the food_staff_tp tuple completely"
   ]
  },
  {
   "cell_type": "code",
   "execution_count": 17,
   "id": "65d92e8d",
   "metadata": {},
   "outputs": [
    {
     "name": "stdout",
     "output_type": "stream",
     "text": [
      "food_stuff_list has been deleted\n"
     ]
    }
   ],
   "source": [
    "del food_stuff_list\n",
    "try:\n",
    "    print(food_stuff_list)\n",
    "except NameError:\n",
    "    print(\"food_stuff_list has been deleted\")\n"
   ]
  },
  {
   "cell_type": "markdown",
   "id": "50cc2f1d",
   "metadata": {},
   "source": [
    "7.Check if an item exists in tuple:\n",
    "- Check if 'Estonia' is a nordic country\n",
    "\n",
    "- Check if 'Iceland' is a nordic country"
   ]
  },
  {
   "cell_type": "code",
   "execution_count": 19,
   "id": "6c04c02a",
   "metadata": {},
   "outputs": [
    {
     "name": "stdout",
     "output_type": "stream",
     "text": [
      "False\n",
      "True\n"
     ]
    }
   ],
   "source": [
    "nordic_countries = ('Denmark', 'Finland','Iceland', 'Norway', 'Sweden')\n",
    "print(\"Estonia\" in nordic_countries)  # False\n",
    "print(\"Iceland\" in nordic_countries)  # True"
   ]
  }
 ],
 "metadata": {
  "kernelspec": {
   "display_name": "base",
   "language": "python",
   "name": "python3"
  },
  "language_info": {
   "codemirror_mode": {
    "name": "ipython",
    "version": 3
   },
   "file_extension": ".py",
   "mimetype": "text/x-python",
   "name": "python",
   "nbconvert_exporter": "python",
   "pygments_lexer": "ipython3",
   "version": "3.11.7"
  }
 },
 "nbformat": 4,
 "nbformat_minor": 5
}
