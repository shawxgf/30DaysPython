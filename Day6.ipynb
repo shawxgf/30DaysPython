{
 "cells": [
  {
   "cell_type": "markdown",
   "id": "1d7febf9",
   "metadata": {},
   "source": [
    "1.Create an empty tuple"
   ]
  }
 ],
 "metadata": {
  "language_info": {
   "name": "python"
  }
 },
 "nbformat": 4,
 "nbformat_minor": 5
}
