{
 "cells": [
  {
   "cell_type": "markdown",
   "id": "30eb5c38",
   "metadata": {},
   "source": [
    "# Exercise 1"
   ]
  },
  {
   "cell_type": "markdown",
   "id": "b9db05bc",
   "metadata": {},
   "source": [
    "1.Inside 30DaysOfPython create a folder called day_2. Inside this folder create a file named variables.py"
   ]
  },
  {
   "cell_type": "markdown",
   "id": "91dd657f",
   "metadata": {},
   "source": [
    "2.Write a python comment saying 'Day 2: 30 Days of python programming'"
   ]
  },
  {
   "cell_type": "code",
   "execution_count": 1,
   "id": "c917a5ae",
   "metadata": {},
   "outputs": [],
   "source": [
    "# Day 2: 30 Days of python programming"
   ]
  },
  {
   "cell_type": "markdown",
   "id": "db122d07",
   "metadata": {},
   "source": [
    "3.Declare a first name variable and assign a value to it"
   ]
  },
  {
   "cell_type": "code",
   "execution_count": 2,
   "id": "a62d16f7",
   "metadata": {},
   "outputs": [],
   "source": [
    "first_name = \"Patrick\""
   ]
  },
  {
   "cell_type": "markdown",
   "id": "6b6309bb",
   "metadata": {},
   "source": [
    "4. Declare a last name variable and assign a value to it"
   ]
  },
  {
   "cell_type": "code",
   "execution_count": 3,
   "id": "adce4836",
   "metadata": {},
   "outputs": [],
   "source": [
    "last_name = \"Shawn\""
   ]
  },
  {
   "cell_type": "markdown",
   "id": "a1f93683",
   "metadata": {},
   "source": [
    "5.Declare a full name variable and assign a value to it"
   ]
  },
  {
   "cell_type": "code",
   "execution_count": 4,
   "id": "420250aa",
   "metadata": {},
   "outputs": [],
   "source": [
    "full_name = first_name + \" \" + last_name"
   ]
  },
  {
   "cell_type": "markdown",
   "id": "1ef7dd27",
   "metadata": {},
   "source": [
    "6.Declare a country variable and assign a value to it"
   ]
  },
  {
   "cell_type": "code",
   "execution_count": 5,
   "id": "29fc6dc7",
   "metadata": {},
   "outputs": [],
   "source": [
    "country = \"United States\""
   ]
  },
  {
   "cell_type": "markdown",
   "id": "572b390b",
   "metadata": {},
   "source": [
    "7.Declare a city variable and assign a value to it"
   ]
  },
  {
   "cell_type": "code",
   "execution_count": 6,
   "id": "8da709c4",
   "metadata": {},
   "outputs": [],
   "source": [
    "city = \"New York\""
   ]
  },
  {
   "cell_type": "markdown",
   "id": "1eb71e6a",
   "metadata": {},
   "source": [
    "8.Declare an age variable and assign a value to it"
   ]
  },
  {
   "cell_type": "code",
   "execution_count": 7,
   "id": "06c566b7",
   "metadata": {},
   "outputs": [],
   "source": [
    "age = 30"
   ]
  },
  {
   "cell_type": "markdown",
   "id": "0124c438",
   "metadata": {},
   "source": [
    "9.Declare a year variable and assign a value to it"
   ]
  },
  {
   "cell_type": "code",
   "execution_count": 8,
   "id": "bde8483b",
   "metadata": {},
   "outputs": [],
   "source": [
    "year = 2023"
   ]
  },
  {
   "cell_type": "markdown",
   "id": "5cc5922d",
   "metadata": {},
   "source": [
    "10.Declare a variable is_married and assign a value to it"
   ]
  },
  {
   "cell_type": "code",
   "execution_count": 9,
   "id": "a831d9b5",
   "metadata": {},
   "outputs": [],
   "source": [
    "is_married = True"
   ]
  },
  {
   "cell_type": "markdown",
   "id": "05b8a483",
   "metadata": {},
   "source": [
    "11.Declare a variable is_true and assign a value to it"
   ]
  },
  {
   "cell_type": "code",
   "execution_count": 10,
   "id": "2048c9b4",
   "metadata": {},
   "outputs": [],
   "source": [
    "is_true = False"
   ]
  },
  {
   "cell_type": "markdown",
   "id": "668076e7",
   "metadata": {},
   "source": [
    "12.Declare a variable is_light_on and assign a value to it"
   ]
  },
  {
   "cell_type": "code",
   "execution_count": 11,
   "id": "4b4576e4",
   "metadata": {},
   "outputs": [],
   "source": [
    "is_light_on = True"
   ]
  },
  {
   "cell_type": "markdown",
   "id": "448117b9",
   "metadata": {},
   "source": [
    "13.Declare multiple variable on one line"
   ]
  },
  {
   "cell_type": "code",
   "execution_count": 12,
   "id": "2dd7c8b0",
   "metadata": {},
   "outputs": [],
   "source": [
    "height, weight = 1.75, 70"
   ]
  },
  {
   "cell_type": "markdown",
   "id": "b0eb69ed",
   "metadata": {},
   "source": [
    "# Exercise 2"
   ]
  },
  {
   "cell_type": "markdown",
   "id": "dfd11261",
   "metadata": {},
   "source": [
    "1.Check the data type of all your variables using type() built-in function"
   ]
  },
  {
   "cell_type": "code",
   "execution_count": 15,
   "id": "8ad838df",
   "metadata": {},
   "outputs": [
    {
     "data": {
      "text/plain": [
       "bool"
      ]
     },
     "execution_count": 15,
     "metadata": {},
     "output_type": "execute_result"
    }
   ],
   "source": [
    "type(is_light_on)"
   ]
  },
  {
   "cell_type": "markdown",
   "id": "2e3c52ed",
   "metadata": {},
   "source": [
    "2.Using the len() built-in function, find the length of your first name"
   ]
  },
  {
   "cell_type": "code",
   "execution_count": 16,
   "id": "9c821c30",
   "metadata": {},
   "outputs": [
    {
     "data": {
      "text/plain": [
       "7"
      ]
     },
     "execution_count": 16,
     "metadata": {},
     "output_type": "execute_result"
    }
   ],
   "source": [
    "len(first_name)"
   ]
  },
  {
   "cell_type": "markdown",
   "id": "db35c349",
   "metadata": {},
   "source": [
    "3.Compare the length of your first name and your last name"
   ]
  },
  {
   "cell_type": "code",
   "execution_count": 17,
   "id": "b067b138",
   "metadata": {},
   "outputs": [
    {
     "data": {
      "text/plain": [
       "False"
      ]
     },
     "execution_count": 17,
     "metadata": {},
     "output_type": "execute_result"
    }
   ],
   "source": [
    "len(last_name) > len(first_name)"
   ]
  },
  {
   "cell_type": "markdown",
   "id": "fcdd3c3a",
   "metadata": {},
   "source": [
    "4.Declare 5 as num_one and 4 as num_two\n",
    "\n",
    "1.Add num_one and num_two and assign the value to a variable total\n",
    "\n",
    "2.Subtract num_two from num_one and assign the value to a variable diff\n",
    "\n",
    "3.Multiply num_two and num_one and assign the value to a variable product\n",
    "\n",
    "4.Divide num_one by num_two and assign the value to a variable division\n",
    "\n",
    "5.Use modulus division to find num_two divided by num_one and assign the value to a variable remainder\n",
    "\n",
    "6.Calculate num_one to the power of num_two and assign the value to a variable exp\n",
    "\n",
    "7.Find floor division of num_one by num_two and assign the value to a variable floor_division\n"
   ]
  },
  {
   "cell_type": "code",
   "execution_count": 19,
   "id": "df545723",
   "metadata": {},
   "outputs": [
    {
     "name": "stdout",
     "output_type": "stream",
     "text": [
      "Total: 9\n",
      "Difference: 1\n",
      "Product: 20\n",
      "Division: 1.25\n",
      "Remainder: 1\n",
      "Exponent: 625\n",
      "Floor Division: 1\n"
     ]
    }
   ],
   "source": [
    "num_one = 5\n",
    "num_two = 4\n",
    "# print total, diff, product, division, remainder, exp, floor_division\n",
    "total = num_one + num_two\n",
    "diff = num_one - num_two\n",
    "product = num_one * num_two\n",
    "division = num_one / num_two\n",
    "remainder = num_one % num_two\n",
    "exp = num_one ** num_two\n",
    "floor_division = num_one // num_two\n",
    "print(\"Total:\", total)\n",
    "print(\"Difference:\", diff)\n",
    "print(\"Product:\", product)\n",
    "print(\"Division:\", division)\n",
    "print(\"Remainder:\", remainder)\n",
    "print(\"Exponent:\", exp)\n",
    "print(\"Floor Division:\", floor_division)"
   ]
  },
  {
   "cell_type": "markdown",
   "id": "487d3d8b",
   "metadata": {},
   "source": [
    "5.The radius of a circle is 30 meters.\n",
    "\n",
    "1.Calculate the area of a circle and assign the value to a variable name of area_of_circle\n",
    "\n",
    "2.Calculate the circumference of a circle and assign the value to a variable name of circum_of_circle\n",
    "\n",
    "3.Take radius as user input and calculate the area."
   ]
  },
  {
   "cell_type": "code",
   "execution_count": 20,
   "id": "b280ff15",
   "metadata": {},
   "outputs": [
    {
     "name": "stdout",
     "output_type": "stream",
     "text": [
      "Area of Circle: 2826.0\n",
      "Circumference of Circle: 188.4\n"
     ]
    }
   ],
   "source": [
    "radius = 30\n",
    "area_of_circle = 3.14 * radius ** 2\n",
    "circum_of_circle = 2 * 3.14 * radius\n",
    "print(\"Area of Circle:\", area_of_circle)\n",
    "print(\"Circumference of Circle:\", circum_of_circle)\n",
    "radius = float(input(\"Enter the radius of the circle: \"))\n",
    "area_of_circle = 3.14 * radius ** 2"
   ]
  },
  {
   "cell_type": "markdown",
   "id": "efc246be",
   "metadata": {},
   "source": [
    "6.Use the built-in input function to get first name, last name, country and age from a user and store the value to their corresponding variable names"
   ]
  },
  {
   "cell_type": "code",
   "execution_count": 21,
   "id": "0f15f135",
   "metadata": {},
   "outputs": [
    {
     "ename": "ValueError",
     "evalue": "invalid literal for int() with base 10: ''",
     "output_type": "error",
     "traceback": [
      "\u001b[1;31m---------------------------------------------------------------------------\u001b[0m",
      "\u001b[1;31mValueError\u001b[0m                                Traceback (most recent call last)",
      "Cell \u001b[1;32mIn[21], line 4\u001b[0m\n\u001b[0;32m      2\u001b[0m last_name \u001b[38;5;241m=\u001b[39m \u001b[38;5;28minput\u001b[39m(\u001b[38;5;124m\"\u001b[39m\u001b[38;5;124mEnter your last name: \u001b[39m\u001b[38;5;124m\"\u001b[39m)\n\u001b[0;32m      3\u001b[0m country \u001b[38;5;241m=\u001b[39m \u001b[38;5;28minput\u001b[39m(\u001b[38;5;124m\"\u001b[39m\u001b[38;5;124mEnter your country: \u001b[39m\u001b[38;5;124m\"\u001b[39m)\n\u001b[1;32m----> 4\u001b[0m age \u001b[38;5;241m=\u001b[39m \u001b[38;5;28;43mint\u001b[39;49m\u001b[43m(\u001b[49m\u001b[38;5;28;43minput\u001b[39;49m\u001b[43m(\u001b[49m\u001b[38;5;124;43m\"\u001b[39;49m\u001b[38;5;124;43mEnter your age: \u001b[39;49m\u001b[38;5;124;43m\"\u001b[39;49m\u001b[43m)\u001b[49m\u001b[43m)\u001b[49m    \n",
      "\u001b[1;31mValueError\u001b[0m: invalid literal for int() with base 10: ''"
     ]
    }
   ],
   "source": [
    "first_name = input(\"Enter your first name: \")\n",
    "last_name = input(\"Enter your last name: \")\n",
    "country = input(\"Enter your country: \")\n",
    "age = int(input(\"Enter your age: \"))    \n"
   ]
  },
  {
   "cell_type": "markdown",
   "id": "1f6fd001",
   "metadata": {},
   "source": [
    "10.Run help('keywords') in Python shell or in your file to check for the Python reserved words or keywords"
   ]
  },
  {
   "cell_type": "code",
   "execution_count": 22,
   "id": "a44db4b2",
   "metadata": {},
   "outputs": [
    {
     "name": "stdout",
     "output_type": "stream",
     "text": [
      "\n",
      "Here is a list of the Python keywords.  Enter any keyword to get more help.\n",
      "\n",
      "False               class               from                or\n",
      "None                continue            global              pass\n",
      "True                def                 if                  raise\n",
      "and                 del                 import              return\n",
      "as                  elif                in                  try\n",
      "assert              else                is                  while\n",
      "async               except              lambda              with\n",
      "await               finally             nonlocal            yield\n",
      "break               for                 not                 \n",
      "\n"
     ]
    }
   ],
   "source": [
    "help('keywords')"
   ]
  }
 ],
 "metadata": {
  "kernelspec": {
   "display_name": "base",
   "language": "python",
   "name": "python3"
  },
  "language_info": {
   "codemirror_mode": {
    "name": "ipython",
    "version": 3
   },
   "file_extension": ".py",
   "mimetype": "text/x-python",
   "name": "python",
   "nbconvert_exporter": "python",
   "pygments_lexer": "ipython3",
   "version": "3.11.7"
  }
 },
 "nbformat": 4,
 "nbformat_minor": 5
}
